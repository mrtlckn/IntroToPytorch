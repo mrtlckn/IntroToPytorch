{
  "nbformat": 4,
  "nbformat_minor": 0,
  "metadata": {
    "colab": {
      "provenance": [],
      "gpuType": "T4",
      "authorship_tag": "ABX9TyNOdQ4FuG51tArrIoQvLn1V",
      "include_colab_link": true
    },
    "kernelspec": {
      "name": "python3",
      "display_name": "Python 3"
    },
    "language_info": {
      "name": "python"
    },
    "accelerator": "GPU"
  },
  "cells": [
    {
      "cell_type": "markdown",
      "metadata": {
        "id": "view-in-github",
        "colab_type": "text"
      },
      "source": [
        "<a href=\"https://colab.research.google.com/github/mrtlckn/IntroToPytorch/blob/main/IntroToPytorch_Tensors.ipynb\" target=\"_parent\"><img src=\"https://colab.research.google.com/assets/colab-badge.svg\" alt=\"Open In Colab\"/></a>"
      ]
    },
    {
      "cell_type": "code",
      "source": [
        "2+2"
      ],
      "metadata": {
        "id": "dfhH73KF9O2Z",
        "colab": {
          "base_uri": "https://localhost:8080/"
        },
        "outputId": "e0f1646d-f64d-4428-ed64-6f925ce7ea5f"
      },
      "execution_count": null,
      "outputs": [
        {
          "output_type": "execute_result",
          "data": {
            "text/plain": [
              "4"
            ]
          },
          "metadata": {},
          "execution_count": 1
        }
      ]
    },
    {
      "cell_type": "code",
      "source": [
        "import torch"
      ],
      "metadata": {
        "id": "yc6w52c0tvFH"
      },
      "execution_count": null,
      "outputs": []
    },
    {
      "cell_type": "code",
      "source": [
        "!pip list"
      ],
      "metadata": {
        "id": "cUo9uDmJtwRA"
      },
      "execution_count": null,
      "outputs": []
    },
    {
      "cell_type": "markdown",
      "source": [
        "# Tensors\n",
        "\n",
        "* A torch.Tensor is a multi-dimensional matrix containing elements of a single\n",
        "data type.\n",
        "* Similar to Numpy Arrays, but full of fun things that make them work better on GPU's (vs regular CPU's).\n",
        "* default data type of float32.\n",
        "* More suitable for deep learning than a numpy array."
      ],
      "metadata": {
        "id": "lZeOjmgRxIMW"
      }
    },
    {
      "cell_type": "code",
      "source": [
        "import torch\n",
        "import numpy as np"
      ],
      "metadata": {
        "id": "Oq3-2i3iuAlH"
      },
      "execution_count": 4,
      "outputs": []
    },
    {
      "cell_type": "markdown",
      "source": [
        "# LISTS\n"
      ],
      "metadata": {
        "id": "uj0mT_Dix8rp"
      }
    },
    {
      "cell_type": "code",
      "source": [
        "my_list = [1,2,3,4,5] #One dimension array\n",
        "print(my_list)\n",
        "\n",
        "my_list2 = [[1,2,3,4,5], [6,7,8,9,10]] # multi-dimensional array\n",
        "print(my_list2)"
      ],
      "metadata": {
        "colab": {
          "base_uri": "https://localhost:8080/"
        },
        "id": "ZX7YubgxxkXr",
        "outputId": "d28f5842-d32e-4019-9e80-7fd2a3eccd35"
      },
      "execution_count": 6,
      "outputs": [
        {
          "output_type": "stream",
          "name": "stdout",
          "text": [
            "[1, 2, 3, 4, 5]\n",
            "[[1, 2, 3, 4, 5], [6, 7, 8, 9, 10]]\n"
          ]
        }
      ]
    },
    {
      "cell_type": "markdown",
      "source": [
        "# Numpy Arrays"
      ],
      "metadata": {
        "id": "U5n-6A9RyqPT"
      }
    },
    {
      "cell_type": "code",
      "source": [
        "np1 = np.random.rand(3,4) # 3 rows, 4 columns\n",
        "print(np1)"
      ],
      "metadata": {
        "colab": {
          "base_uri": "https://localhost:8080/"
        },
        "id": "Y-IyvyXAyEha",
        "outputId": "23e8c0fe-41a1-4da0-db72-f557590bffac"
      },
      "execution_count": 7,
      "outputs": [
        {
          "output_type": "stream",
          "name": "stdout",
          "text": [
            "[[0.38694634 0.84325422 0.55635368 0.47121562]\n",
            " [0.24634688 0.61324398 0.53375782 0.50818388]\n",
            " [0.90786444 0.13431138 0.39299357 0.05912267]]\n"
          ]
        }
      ]
    },
    {
      "cell_type": "code",
      "source": [
        "np1.dtype"
      ],
      "metadata": {
        "colab": {
          "base_uri": "https://localhost:8080/"
        },
        "id": "jlegoy5Qy4Do",
        "outputId": "2c72c29c-78ef-4cd0-ebf4-ca2f5410773b"
      },
      "execution_count": 8,
      "outputs": [
        {
          "output_type": "execute_result",
          "data": {
            "text/plain": [
              "dtype('float64')"
            ]
          },
          "metadata": {},
          "execution_count": 8
        }
      ]
    },
    {
      "cell_type": "markdown",
      "source": [
        "# TENSORS"
      ],
      "metadata": {
        "id": "fndRSCPtzQsY"
      }
    },
    {
      "cell_type": "code",
      "source": [
        "tensor_2d = torch.randn(3,4)\n",
        "print(tensor_2d)"
      ],
      "metadata": {
        "colab": {
          "base_uri": "https://localhost:8080/"
        },
        "id": "ieToHHKZzIM2",
        "outputId": "a7affc78-e8d1-4269-cfc9-8d464517675a"
      },
      "execution_count": 10,
      "outputs": [
        {
          "output_type": "stream",
          "name": "stdout",
          "text": [
            "tensor([[ 1.5727, -0.8215, -0.6959, -1.2747],\n",
            "        [ 1.0509,  1.0361,  0.7985,  1.4154],\n",
            "        [ 0.8185, -1.3412,  0.0177, -0.6828]])\n"
          ]
        }
      ]
    },
    {
      "cell_type": "code",
      "source": [
        "tensor_3d = torch.zeros(2,3,4) #2 matrix. Each matrix has 3 rows, 4 columns\n",
        "print(tensor_3d)\n"
      ],
      "metadata": {
        "colab": {
          "base_uri": "https://localhost:8080/"
        },
        "id": "zyaLTy3HzP9P",
        "outputId": "b171c656-7c40-4800-93ea-569a4f478317"
      },
      "execution_count": 14,
      "outputs": [
        {
          "output_type": "stream",
          "name": "stdout",
          "text": [
            "tensor([[[0., 0., 0., 0.],\n",
            "         [0., 0., 0., 0.],\n",
            "         [0., 0., 0., 0.]],\n",
            "\n",
            "        [[0., 0., 0., 0.],\n",
            "         [0., 0., 0., 0.],\n",
            "         [0., 0., 0., 0.]]])\n"
          ]
        }
      ]
    },
    {
      "cell_type": "code",
      "source": [
        "# Create tensor out of numpy array\n",
        "\n",
        "my_tensor = torch.tensor(np1)\n",
        "print(my_tensor)"
      ],
      "metadata": {
        "colab": {
          "base_uri": "https://localhost:8080/"
        },
        "id": "2mb_qXLVzkSu",
        "outputId": "d720b2c2-aa3d-4e87-ca09-d97ee2926252"
      },
      "execution_count": 16,
      "outputs": [
        {
          "output_type": "stream",
          "name": "stdout",
          "text": [
            "tensor([[0.3869, 0.8433, 0.5564, 0.4712],\n",
            "        [0.2463, 0.6132, 0.5338, 0.5082],\n",
            "        [0.9079, 0.1343, 0.3930, 0.0591]], dtype=torch.float64)\n"
          ]
        }
      ]
    },
    {
      "cell_type": "code",
      "source": [
        "print(my_tensor.dtype) #float64 because converted from numpy array to Tensor\n",
        "print(tensor_2d.dtype)\n",
        "\n",
        "# Tensors by default are float32 but we can easily change"
      ],
      "metadata": {
        "colab": {
          "base_uri": "https://localhost:8080/"
        },
        "id": "-QYumpAh2m3K",
        "outputId": "fbe651b4-51ee-446e-c9fb-61231e43d56d"
      },
      "execution_count": 20,
      "outputs": [
        {
          "output_type": "stream",
          "name": "stdout",
          "text": [
            "torch.float64\n",
            "torch.float32\n"
          ]
        }
      ]
    },
    {
      "cell_type": "code",
      "source": [],
      "metadata": {
        "id": "GOQDZU4y20-4"
      },
      "execution_count": null,
      "outputs": []
    }
  ]
}