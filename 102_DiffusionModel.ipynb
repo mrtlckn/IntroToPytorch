{
  "nbformat": 4,
  "nbformat_minor": 0,
  "metadata": {
    "colab": {
      "provenance": [],
      "authorship_tag": "ABX9TyNP36uNeLH3+nkU4ofwKszo",
      "include_colab_link": true
    },
    "kernelspec": {
      "name": "python3",
      "display_name": "Python 3"
    },
    "language_info": {
      "name": "python"
    }
  },
  "cells": [
    {
      "cell_type": "markdown",
      "metadata": {
        "id": "view-in-github",
        "colab_type": "text"
      },
      "source": [
        "<a href=\"https://colab.research.google.com/github/mrtlckn/IntroToPytorch/blob/main/102_DiffusionModel.ipynb\" target=\"_parent\"><img src=\"https://colab.research.google.com/assets/colab-badge.svg\" alt=\"Open In Colab\"/></a>"
      ]
    },
    {
      "cell_type": "code",
      "source": [
        "import torch\n",
        "\n",
        "import torch.nn as nn\n",
        "import torch.nn.functional as F\n",
        "from torch.utils.data import DataLoader\n",
        "from torchvision import datasets, transforms\n",
        "from torchvision.utils import make_grid\n",
        "\n",
        "import numpy as np\n",
        "import pandas as pd\n",
        "from sklearn.metrics import confusion_matrix\n",
        "import matplotlib.pyplot as plt\n",
        "%matplotlib inline\n",
        ""
      ],
      "metadata": {
        "id": "5Z-Ms9twwAX2"
      },
      "execution_count": 1,
      "outputs": []
    },
    {
      "cell_type": "code",
      "source": [
        "class Diffusion:\n",
        "  def __init__(self, noise_steps= 1000, beta_start = 1e-4, beta_end = 0.02, img_size = 64):\n",
        "    self.noise_steps = noise_steps\n",
        "    self.beta_start = beta_start\n",
        "    self.beta_end = beta_end\n",
        "    self.img_size = img_size\n",
        "\n",
        "    self.beta = self.prepate_noise_schedule\n",
        "    self.alpha = 1. - self.beta\n",
        "    self.alpha_hat = torch.cumprod(self.alpha, dim = 0)\n",
        "\n",
        "  def prepare_noise_schedule(self):\n",
        "    return torch.linspace(self.beta_start, self.beta_end, self.noise_steps)"
      ],
      "metadata": {
        "id": "NXWwOzXG1ROo"
      },
      "execution_count": null,
      "outputs": []
    }
  ]
}