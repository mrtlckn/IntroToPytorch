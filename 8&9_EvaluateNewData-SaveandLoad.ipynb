{
  "nbformat": 4,
  "nbformat_minor": 0,
  "metadata": {
    "colab": {
      "provenance": [],
      "gpuType": "T4",
      "authorship_tag": "ABX9TyPui4c06IHG+yYlbAxuYNpC",
      "include_colab_link": true
    },
    "kernelspec": {
      "name": "python3",
      "display_name": "Python 3"
    },
    "language_info": {
      "name": "python"
    },
    "accelerator": "GPU"
  },
  "cells": [
    {
      "cell_type": "markdown",
      "metadata": {
        "id": "view-in-github",
        "colab_type": "text"
      },
      "source": [
        "<a href=\"https://colab.research.google.com/github/mrtlckn/IntroToPytorch/blob/main/8%269_EvaluateNewData-SaveandLoad.ipynb\" target=\"_parent\"><img src=\"https://colab.research.google.com/assets/colab-badge.svg\" alt=\"Open In Colab\"/></a>"
      ]
    },
    {
      "cell_type": "code",
      "source": [
        "import torch\n",
        "import torch.nn as nn\n",
        "import torch.nn.functional as F"
      ],
      "metadata": {
        "id": "Bl0d_kZ492Iq"
      },
      "execution_count": 1,
      "outputs": []
    },
    {
      "cell_type": "markdown",
      "source": [
        "![image.png](data:image/png;base64,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)"
      ],
      "metadata": {
        "id": "0LRhlntv9xDY"
      }
    },
    {
      "cell_type": "code",
      "source": [
        "# Create a Model Class that inherits nn.Module\n",
        "class Model(nn.Module):\n",
        "  # Input layer(4 features of the flower) --> Hidden Layer1 (number of neurons) --> H2(n) --> output (3 classes of iris flowers)\n",
        "  def __init__(self, input_features = 4, h1=8, h2=9, output_features = 3):\n",
        "    super().__init__() # instantiate our nn.Module\n",
        "    self.fc1 = nn.Linear(input_features, h1) # Fully connected layer 1\n",
        "    self.fc2 = nn.Linear(h1, h2)\n",
        "    self.out = nn.Linear(h2, output_features)\n",
        "\n",
        "  def forward(self, x):\n",
        "    x = F.relu(self.fc1(x))\n",
        "    x = F.relu(self.fc2(x))\n",
        "    x = self.out(x)\n",
        "\n",
        "    return x\n"
      ],
      "metadata": {
        "id": "4aHZqKHz9zMm"
      },
      "execution_count": 2,
      "outputs": []
    },
    {
      "cell_type": "code",
      "source": [
        "# Pick a manual seed for randomization\n",
        "torch.manual_seed(41)\n",
        "#Create an instance of model\n",
        "model = Model()"
      ],
      "metadata": {
        "id": "CQJs8OKi90KV"
      },
      "execution_count": 3,
      "outputs": []
    },
    {
      "cell_type": "code",
      "source": [
        "import pandas as pd\n",
        "import matplotlib.pyplot as plt\n",
        "%matplotlib inline"
      ],
      "metadata": {
        "id": "IjSMgQsk93nz"
      },
      "execution_count": 4,
      "outputs": []
    },
    {
      "cell_type": "markdown",
      "source": [
        "### Data Preprocesses"
      ],
      "metadata": {
        "id": "y9c8kll7wwQF"
      }
    },
    {
      "cell_type": "code",
      "source": [
        "url = 'https://gist.githubusercontent.com/netj/8836201/raw/6f9306ad21398ea43cba4f7d537619d0e07d5ae3/iris.csv'\n",
        "my_df = pd.read_csv(url)"
      ],
      "metadata": {
        "id": "dVly1s1zubqV"
      },
      "execution_count": 5,
      "outputs": []
    },
    {
      "cell_type": "code",
      "source": [
        "my_df.head(2)"
      ],
      "metadata": {
        "colab": {
          "base_uri": "https://localhost:8080/",
          "height": 112
        },
        "id": "TCsbfj-LvCRf",
        "outputId": "bf13aa76-31d8-48a0-ccac-859e95ad5591"
      },
      "execution_count": 6,
      "outputs": [
        {
          "output_type": "execute_result",
          "data": {
            "text/plain": [
              "   sepal.length  sepal.width  petal.length  petal.width variety\n",
              "0           5.1          3.5           1.4          0.2  Setosa\n",
              "1           4.9          3.0           1.4          0.2  Setosa"
            ],
            "text/html": [
              "\n",
              "  <div id=\"df-c1f10480-f369-473c-945e-6957409420fd\" class=\"colab-df-container\">\n",
              "    <div>\n",
              "<style scoped>\n",
              "    .dataframe tbody tr th:only-of-type {\n",
              "        vertical-align: middle;\n",
              "    }\n",
              "\n",
              "    .dataframe tbody tr th {\n",
              "        vertical-align: top;\n",
              "    }\n",
              "\n",
              "    .dataframe thead th {\n",
              "        text-align: right;\n",
              "    }\n",
              "</style>\n",
              "<table border=\"1\" class=\"dataframe\">\n",
              "  <thead>\n",
              "    <tr style=\"text-align: right;\">\n",
              "      <th></th>\n",
              "      <th>sepal.length</th>\n",
              "      <th>sepal.width</th>\n",
              "      <th>petal.length</th>\n",
              "      <th>petal.width</th>\n",
              "      <th>variety</th>\n",
              "    </tr>\n",
              "  </thead>\n",
              "  <tbody>\n",
              "    <tr>\n",
              "      <th>0</th>\n",
              "      <td>5.1</td>\n",
              "      <td>3.5</td>\n",
              "      <td>1.4</td>\n",
              "      <td>0.2</td>\n",
              "      <td>Setosa</td>\n",
              "    </tr>\n",
              "    <tr>\n",
              "      <th>1</th>\n",
              "      <td>4.9</td>\n",
              "      <td>3.0</td>\n",
              "      <td>1.4</td>\n",
              "      <td>0.2</td>\n",
              "      <td>Setosa</td>\n",
              "    </tr>\n",
              "  </tbody>\n",
              "</table>\n",
              "</div>\n",
              "    <div class=\"colab-df-buttons\">\n",
              "\n",
              "  <div class=\"colab-df-container\">\n",
              "    <button class=\"colab-df-convert\" onclick=\"convertToInteractive('df-c1f10480-f369-473c-945e-6957409420fd')\"\n",
              "            title=\"Convert this dataframe to an interactive table.\"\n",
              "            style=\"display:none;\">\n",
              "\n",
              "  <svg xmlns=\"http://www.w3.org/2000/svg\" height=\"24px\" viewBox=\"0 -960 960 960\">\n",
              "    <path d=\"M120-120v-720h720v720H120Zm60-500h600v-160H180v160Zm220 220h160v-160H400v160Zm0 220h160v-160H400v160ZM180-400h160v-160H180v160Zm440 0h160v-160H620v160ZM180-180h160v-160H180v160Zm440 0h160v-160H620v160Z\"/>\n",
              "  </svg>\n",
              "    </button>\n",
              "\n",
              "  <style>\n",
              "    .colab-df-container {\n",
              "      display:flex;\n",
              "      gap: 12px;\n",
              "    }\n",
              "\n",
              "    .colab-df-convert {\n",
              "      background-color: #E8F0FE;\n",
              "      border: none;\n",
              "      border-radius: 50%;\n",
              "      cursor: pointer;\n",
              "      display: none;\n",
              "      fill: #1967D2;\n",
              "      height: 32px;\n",
              "      padding: 0 0 0 0;\n",
              "      width: 32px;\n",
              "    }\n",
              "\n",
              "    .colab-df-convert:hover {\n",
              "      background-color: #E2EBFA;\n",
              "      box-shadow: 0px 1px 2px rgba(60, 64, 67, 0.3), 0px 1px 3px 1px rgba(60, 64, 67, 0.15);\n",
              "      fill: #174EA6;\n",
              "    }\n",
              "\n",
              "    .colab-df-buttons div {\n",
              "      margin-bottom: 4px;\n",
              "    }\n",
              "\n",
              "    [theme=dark] .colab-df-convert {\n",
              "      background-color: #3B4455;\n",
              "      fill: #D2E3FC;\n",
              "    }\n",
              "\n",
              "    [theme=dark] .colab-df-convert:hover {\n",
              "      background-color: #434B5C;\n",
              "      box-shadow: 0px 1px 3px 1px rgba(0, 0, 0, 0.15);\n",
              "      filter: drop-shadow(0px 1px 2px rgba(0, 0, 0, 0.3));\n",
              "      fill: #FFFFFF;\n",
              "    }\n",
              "  </style>\n",
              "\n",
              "    <script>\n",
              "      const buttonEl =\n",
              "        document.querySelector('#df-c1f10480-f369-473c-945e-6957409420fd button.colab-df-convert');\n",
              "      buttonEl.style.display =\n",
              "        google.colab.kernel.accessAllowed ? 'block' : 'none';\n",
              "\n",
              "      async function convertToInteractive(key) {\n",
              "        const element = document.querySelector('#df-c1f10480-f369-473c-945e-6957409420fd');\n",
              "        const dataTable =\n",
              "          await google.colab.kernel.invokeFunction('convertToInteractive',\n",
              "                                                    [key], {});\n",
              "        if (!dataTable) return;\n",
              "\n",
              "        const docLinkHtml = 'Like what you see? Visit the ' +\n",
              "          '<a target=\"_blank\" href=https://colab.research.google.com/notebooks/data_table.ipynb>data table notebook</a>'\n",
              "          + ' to learn more about interactive tables.';\n",
              "        element.innerHTML = '';\n",
              "        dataTable['output_type'] = 'display_data';\n",
              "        await google.colab.output.renderOutput(dataTable, element);\n",
              "        const docLink = document.createElement('div');\n",
              "        docLink.innerHTML = docLinkHtml;\n",
              "        element.appendChild(docLink);\n",
              "      }\n",
              "    </script>\n",
              "  </div>\n",
              "\n",
              "\n",
              "<div id=\"df-fdaf85ac-9042-44e7-bd9b-c4ae11e1680e\">\n",
              "  <button class=\"colab-df-quickchart\" onclick=\"quickchart('df-fdaf85ac-9042-44e7-bd9b-c4ae11e1680e')\"\n",
              "            title=\"Suggest charts\"\n",
              "            style=\"display:none;\">\n",
              "\n",
              "<svg xmlns=\"http://www.w3.org/2000/svg\" height=\"24px\"viewBox=\"0 0 24 24\"\n",
              "     width=\"24px\">\n",
              "    <g>\n",
              "        <path d=\"M19 3H5c-1.1 0-2 .9-2 2v14c0 1.1.9 2 2 2h14c1.1 0 2-.9 2-2V5c0-1.1-.9-2-2-2zM9 17H7v-7h2v7zm4 0h-2V7h2v10zm4 0h-2v-4h2v4z\"/>\n",
              "    </g>\n",
              "</svg>\n",
              "  </button>\n",
              "\n",
              "<style>\n",
              "  .colab-df-quickchart {\n",
              "      --bg-color: #E8F0FE;\n",
              "      --fill-color: #1967D2;\n",
              "      --hover-bg-color: #E2EBFA;\n",
              "      --hover-fill-color: #174EA6;\n",
              "      --disabled-fill-color: #AAA;\n",
              "      --disabled-bg-color: #DDD;\n",
              "  }\n",
              "\n",
              "  [theme=dark] .colab-df-quickchart {\n",
              "      --bg-color: #3B4455;\n",
              "      --fill-color: #D2E3FC;\n",
              "      --hover-bg-color: #434B5C;\n",
              "      --hover-fill-color: #FFFFFF;\n",
              "      --disabled-bg-color: #3B4455;\n",
              "      --disabled-fill-color: #666;\n",
              "  }\n",
              "\n",
              "  .colab-df-quickchart {\n",
              "    background-color: var(--bg-color);\n",
              "    border: none;\n",
              "    border-radius: 50%;\n",
              "    cursor: pointer;\n",
              "    display: none;\n",
              "    fill: var(--fill-color);\n",
              "    height: 32px;\n",
              "    padding: 0;\n",
              "    width: 32px;\n",
              "  }\n",
              "\n",
              "  .colab-df-quickchart:hover {\n",
              "    background-color: var(--hover-bg-color);\n",
              "    box-shadow: 0 1px 2px rgba(60, 64, 67, 0.3), 0 1px 3px 1px rgba(60, 64, 67, 0.15);\n",
              "    fill: var(--button-hover-fill-color);\n",
              "  }\n",
              "\n",
              "  .colab-df-quickchart-complete:disabled,\n",
              "  .colab-df-quickchart-complete:disabled:hover {\n",
              "    background-color: var(--disabled-bg-color);\n",
              "    fill: var(--disabled-fill-color);\n",
              "    box-shadow: none;\n",
              "  }\n",
              "\n",
              "  .colab-df-spinner {\n",
              "    border: 2px solid var(--fill-color);\n",
              "    border-color: transparent;\n",
              "    border-bottom-color: var(--fill-color);\n",
              "    animation:\n",
              "      spin 1s steps(1) infinite;\n",
              "  }\n",
              "\n",
              "  @keyframes spin {\n",
              "    0% {\n",
              "      border-color: transparent;\n",
              "      border-bottom-color: var(--fill-color);\n",
              "      border-left-color: var(--fill-color);\n",
              "    }\n",
              "    20% {\n",
              "      border-color: transparent;\n",
              "      border-left-color: var(--fill-color);\n",
              "      border-top-color: var(--fill-color);\n",
              "    }\n",
              "    30% {\n",
              "      border-color: transparent;\n",
              "      border-left-color: var(--fill-color);\n",
              "      border-top-color: var(--fill-color);\n",
              "      border-right-color: var(--fill-color);\n",
              "    }\n",
              "    40% {\n",
              "      border-color: transparent;\n",
              "      border-right-color: var(--fill-color);\n",
              "      border-top-color: var(--fill-color);\n",
              "    }\n",
              "    60% {\n",
              "      border-color: transparent;\n",
              "      border-right-color: var(--fill-color);\n",
              "    }\n",
              "    80% {\n",
              "      border-color: transparent;\n",
              "      border-right-color: var(--fill-color);\n",
              "      border-bottom-color: var(--fill-color);\n",
              "    }\n",
              "    90% {\n",
              "      border-color: transparent;\n",
              "      border-bottom-color: var(--fill-color);\n",
              "    }\n",
              "  }\n",
              "</style>\n",
              "\n",
              "  <script>\n",
              "    async function quickchart(key) {\n",
              "      const quickchartButtonEl =\n",
              "        document.querySelector('#' + key + ' button');\n",
              "      quickchartButtonEl.disabled = true;  // To prevent multiple clicks.\n",
              "      quickchartButtonEl.classList.add('colab-df-spinner');\n",
              "      try {\n",
              "        const charts = await google.colab.kernel.invokeFunction(\n",
              "            'suggestCharts', [key], {});\n",
              "      } catch (error) {\n",
              "        console.error('Error during call to suggestCharts:', error);\n",
              "      }\n",
              "      quickchartButtonEl.classList.remove('colab-df-spinner');\n",
              "      quickchartButtonEl.classList.add('colab-df-quickchart-complete');\n",
              "    }\n",
              "    (() => {\n",
              "      let quickchartButtonEl =\n",
              "        document.querySelector('#df-fdaf85ac-9042-44e7-bd9b-c4ae11e1680e button');\n",
              "      quickchartButtonEl.style.display =\n",
              "        google.colab.kernel.accessAllowed ? 'block' : 'none';\n",
              "    })();\n",
              "  </script>\n",
              "</div>\n",
              "\n",
              "    </div>\n",
              "  </div>\n"
            ],
            "application/vnd.google.colaboratory.intrinsic+json": {
              "type": "dataframe",
              "variable_name": "my_df",
              "summary": "{\n  \"name\": \"my_df\",\n  \"rows\": 150,\n  \"fields\": [\n    {\n      \"column\": \"sepal.length\",\n      \"properties\": {\n        \"dtype\": \"number\",\n        \"std\": 0.828066127977863,\n        \"min\": 4.3,\n        \"max\": 7.9,\n        \"num_unique_values\": 35,\n        \"samples\": [\n          6.2,\n          4.5,\n          5.6\n        ],\n        \"semantic_type\": \"\",\n        \"description\": \"\"\n      }\n    },\n    {\n      \"column\": \"sepal.width\",\n      \"properties\": {\n        \"dtype\": \"number\",\n        \"std\": 0.4358662849366982,\n        \"min\": 2.0,\n        \"max\": 4.4,\n        \"num_unique_values\": 23,\n        \"samples\": [\n          2.3,\n          4.0,\n          3.5\n        ],\n        \"semantic_type\": \"\",\n        \"description\": \"\"\n      }\n    },\n    {\n      \"column\": \"petal.length\",\n      \"properties\": {\n        \"dtype\": \"number\",\n        \"std\": 1.7652982332594662,\n        \"min\": 1.0,\n        \"max\": 6.9,\n        \"num_unique_values\": 43,\n        \"samples\": [\n          6.7,\n          3.8,\n          3.7\n        ],\n        \"semantic_type\": \"\",\n        \"description\": \"\"\n      }\n    },\n    {\n      \"column\": \"petal.width\",\n      \"properties\": {\n        \"dtype\": \"number\",\n        \"std\": 0.7622376689603465,\n        \"min\": 0.1,\n        \"max\": 2.5,\n        \"num_unique_values\": 22,\n        \"samples\": [\n          0.2,\n          1.2,\n          1.3\n        ],\n        \"semantic_type\": \"\",\n        \"description\": \"\"\n      }\n    },\n    {\n      \"column\": \"variety\",\n      \"properties\": {\n        \"dtype\": \"category\",\n        \"num_unique_values\": 3,\n        \"samples\": [\n          \"Setosa\",\n          \"Versicolor\",\n          \"Virginica\"\n        ],\n        \"semantic_type\": \"\",\n        \"description\": \"\"\n      }\n    }\n  ]\n}"
            }
          },
          "metadata": {},
          "execution_count": 6
        }
      ]
    },
    {
      "cell_type": "code",
      "source": [
        "my_df.tail()"
      ],
      "metadata": {
        "colab": {
          "base_uri": "https://localhost:8080/",
          "height": 206
        },
        "id": "3amoSpcCvFD_",
        "outputId": "622d565a-0c85-4ecb-e89b-39cee0592bf2"
      },
      "execution_count": 7,
      "outputs": [
        {
          "output_type": "execute_result",
          "data": {
            "text/plain": [
              "     sepal.length  sepal.width  petal.length  petal.width    variety\n",
              "145           6.7          3.0           5.2          2.3  Virginica\n",
              "146           6.3          2.5           5.0          1.9  Virginica\n",
              "147           6.5          3.0           5.2          2.0  Virginica\n",
              "148           6.2          3.4           5.4          2.3  Virginica\n",
              "149           5.9          3.0           5.1          1.8  Virginica"
            ],
            "text/html": [
              "\n",
              "  <div id=\"df-7d303d19-1fc7-4712-8290-6d62b8c09fe9\" class=\"colab-df-container\">\n",
              "    <div>\n",
              "<style scoped>\n",
              "    .dataframe tbody tr th:only-of-type {\n",
              "        vertical-align: middle;\n",
              "    }\n",
              "\n",
              "    .dataframe tbody tr th {\n",
              "        vertical-align: top;\n",
              "    }\n",
              "\n",
              "    .dataframe thead th {\n",
              "        text-align: right;\n",
              "    }\n",
              "</style>\n",
              "<table border=\"1\" class=\"dataframe\">\n",
              "  <thead>\n",
              "    <tr style=\"text-align: right;\">\n",
              "      <th></th>\n",
              "      <th>sepal.length</th>\n",
              "      <th>sepal.width</th>\n",
              "      <th>petal.length</th>\n",
              "      <th>petal.width</th>\n",
              "      <th>variety</th>\n",
              "    </tr>\n",
              "  </thead>\n",
              "  <tbody>\n",
              "    <tr>\n",
              "      <th>145</th>\n",
              "      <td>6.7</td>\n",
              "      <td>3.0</td>\n",
              "      <td>5.2</td>\n",
              "      <td>2.3</td>\n",
              "      <td>Virginica</td>\n",
              "    </tr>\n",
              "    <tr>\n",
              "      <th>146</th>\n",
              "      <td>6.3</td>\n",
              "      <td>2.5</td>\n",
              "      <td>5.0</td>\n",
              "      <td>1.9</td>\n",
              "      <td>Virginica</td>\n",
              "    </tr>\n",
              "    <tr>\n",
              "      <th>147</th>\n",
              "      <td>6.5</td>\n",
              "      <td>3.0</td>\n",
              "      <td>5.2</td>\n",
              "      <td>2.0</td>\n",
              "      <td>Virginica</td>\n",
              "    </tr>\n",
              "    <tr>\n",
              "      <th>148</th>\n",
              "      <td>6.2</td>\n",
              "      <td>3.4</td>\n",
              "      <td>5.4</td>\n",
              "      <td>2.3</td>\n",
              "      <td>Virginica</td>\n",
              "    </tr>\n",
              "    <tr>\n",
              "      <th>149</th>\n",
              "      <td>5.9</td>\n",
              "      <td>3.0</td>\n",
              "      <td>5.1</td>\n",
              "      <td>1.8</td>\n",
              "      <td>Virginica</td>\n",
              "    </tr>\n",
              "  </tbody>\n",
              "</table>\n",
              "</div>\n",
              "    <div class=\"colab-df-buttons\">\n",
              "\n",
              "  <div class=\"colab-df-container\">\n",
              "    <button class=\"colab-df-convert\" onclick=\"convertToInteractive('df-7d303d19-1fc7-4712-8290-6d62b8c09fe9')\"\n",
              "            title=\"Convert this dataframe to an interactive table.\"\n",
              "            style=\"display:none;\">\n",
              "\n",
              "  <svg xmlns=\"http://www.w3.org/2000/svg\" height=\"24px\" viewBox=\"0 -960 960 960\">\n",
              "    <path d=\"M120-120v-720h720v720H120Zm60-500h600v-160H180v160Zm220 220h160v-160H400v160Zm0 220h160v-160H400v160ZM180-400h160v-160H180v160Zm440 0h160v-160H620v160ZM180-180h160v-160H180v160Zm440 0h160v-160H620v160Z\"/>\n",
              "  </svg>\n",
              "    </button>\n",
              "\n",
              "  <style>\n",
              "    .colab-df-container {\n",
              "      display:flex;\n",
              "      gap: 12px;\n",
              "    }\n",
              "\n",
              "    .colab-df-convert {\n",
              "      background-color: #E8F0FE;\n",
              "      border: none;\n",
              "      border-radius: 50%;\n",
              "      cursor: pointer;\n",
              "      display: none;\n",
              "      fill: #1967D2;\n",
              "      height: 32px;\n",
              "      padding: 0 0 0 0;\n",
              "      width: 32px;\n",
              "    }\n",
              "\n",
              "    .colab-df-convert:hover {\n",
              "      background-color: #E2EBFA;\n",
              "      box-shadow: 0px 1px 2px rgba(60, 64, 67, 0.3), 0px 1px 3px 1px rgba(60, 64, 67, 0.15);\n",
              "      fill: #174EA6;\n",
              "    }\n",
              "\n",
              "    .colab-df-buttons div {\n",
              "      margin-bottom: 4px;\n",
              "    }\n",
              "\n",
              "    [theme=dark] .colab-df-convert {\n",
              "      background-color: #3B4455;\n",
              "      fill: #D2E3FC;\n",
              "    }\n",
              "\n",
              "    [theme=dark] .colab-df-convert:hover {\n",
              "      background-color: #434B5C;\n",
              "      box-shadow: 0px 1px 3px 1px rgba(0, 0, 0, 0.15);\n",
              "      filter: drop-shadow(0px 1px 2px rgba(0, 0, 0, 0.3));\n",
              "      fill: #FFFFFF;\n",
              "    }\n",
              "  </style>\n",
              "\n",
              "    <script>\n",
              "      const buttonEl =\n",
              "        document.querySelector('#df-7d303d19-1fc7-4712-8290-6d62b8c09fe9 button.colab-df-convert');\n",
              "      buttonEl.style.display =\n",
              "        google.colab.kernel.accessAllowed ? 'block' : 'none';\n",
              "\n",
              "      async function convertToInteractive(key) {\n",
              "        const element = document.querySelector('#df-7d303d19-1fc7-4712-8290-6d62b8c09fe9');\n",
              "        const dataTable =\n",
              "          await google.colab.kernel.invokeFunction('convertToInteractive',\n",
              "                                                    [key], {});\n",
              "        if (!dataTable) return;\n",
              "\n",
              "        const docLinkHtml = 'Like what you see? Visit the ' +\n",
              "          '<a target=\"_blank\" href=https://colab.research.google.com/notebooks/data_table.ipynb>data table notebook</a>'\n",
              "          + ' to learn more about interactive tables.';\n",
              "        element.innerHTML = '';\n",
              "        dataTable['output_type'] = 'display_data';\n",
              "        await google.colab.output.renderOutput(dataTable, element);\n",
              "        const docLink = document.createElement('div');\n",
              "        docLink.innerHTML = docLinkHtml;\n",
              "        element.appendChild(docLink);\n",
              "      }\n",
              "    </script>\n",
              "  </div>\n",
              "\n",
              "\n",
              "<div id=\"df-21666787-6fb7-4685-b450-4b4c6352cee3\">\n",
              "  <button class=\"colab-df-quickchart\" onclick=\"quickchart('df-21666787-6fb7-4685-b450-4b4c6352cee3')\"\n",
              "            title=\"Suggest charts\"\n",
              "            style=\"display:none;\">\n",
              "\n",
              "<svg xmlns=\"http://www.w3.org/2000/svg\" height=\"24px\"viewBox=\"0 0 24 24\"\n",
              "     width=\"24px\">\n",
              "    <g>\n",
              "        <path d=\"M19 3H5c-1.1 0-2 .9-2 2v14c0 1.1.9 2 2 2h14c1.1 0 2-.9 2-2V5c0-1.1-.9-2-2-2zM9 17H7v-7h2v7zm4 0h-2V7h2v10zm4 0h-2v-4h2v4z\"/>\n",
              "    </g>\n",
              "</svg>\n",
              "  </button>\n",
              "\n",
              "<style>\n",
              "  .colab-df-quickchart {\n",
              "      --bg-color: #E8F0FE;\n",
              "      --fill-color: #1967D2;\n",
              "      --hover-bg-color: #E2EBFA;\n",
              "      --hover-fill-color: #174EA6;\n",
              "      --disabled-fill-color: #AAA;\n",
              "      --disabled-bg-color: #DDD;\n",
              "  }\n",
              "\n",
              "  [theme=dark] .colab-df-quickchart {\n",
              "      --bg-color: #3B4455;\n",
              "      --fill-color: #D2E3FC;\n",
              "      --hover-bg-color: #434B5C;\n",
              "      --hover-fill-color: #FFFFFF;\n",
              "      --disabled-bg-color: #3B4455;\n",
              "      --disabled-fill-color: #666;\n",
              "  }\n",
              "\n",
              "  .colab-df-quickchart {\n",
              "    background-color: var(--bg-color);\n",
              "    border: none;\n",
              "    border-radius: 50%;\n",
              "    cursor: pointer;\n",
              "    display: none;\n",
              "    fill: var(--fill-color);\n",
              "    height: 32px;\n",
              "    padding: 0;\n",
              "    width: 32px;\n",
              "  }\n",
              "\n",
              "  .colab-df-quickchart:hover {\n",
              "    background-color: var(--hover-bg-color);\n",
              "    box-shadow: 0 1px 2px rgba(60, 64, 67, 0.3), 0 1px 3px 1px rgba(60, 64, 67, 0.15);\n",
              "    fill: var(--button-hover-fill-color);\n",
              "  }\n",
              "\n",
              "  .colab-df-quickchart-complete:disabled,\n",
              "  .colab-df-quickchart-complete:disabled:hover {\n",
              "    background-color: var(--disabled-bg-color);\n",
              "    fill: var(--disabled-fill-color);\n",
              "    box-shadow: none;\n",
              "  }\n",
              "\n",
              "  .colab-df-spinner {\n",
              "    border: 2px solid var(--fill-color);\n",
              "    border-color: transparent;\n",
              "    border-bottom-color: var(--fill-color);\n",
              "    animation:\n",
              "      spin 1s steps(1) infinite;\n",
              "  }\n",
              "\n",
              "  @keyframes spin {\n",
              "    0% {\n",
              "      border-color: transparent;\n",
              "      border-bottom-color: var(--fill-color);\n",
              "      border-left-color: var(--fill-color);\n",
              "    }\n",
              "    20% {\n",
              "      border-color: transparent;\n",
              "      border-left-color: var(--fill-color);\n",
              "      border-top-color: var(--fill-color);\n",
              "    }\n",
              "    30% {\n",
              "      border-color: transparent;\n",
              "      border-left-color: var(--fill-color);\n",
              "      border-top-color: var(--fill-color);\n",
              "      border-right-color: var(--fill-color);\n",
              "    }\n",
              "    40% {\n",
              "      border-color: transparent;\n",
              "      border-right-color: var(--fill-color);\n",
              "      border-top-color: var(--fill-color);\n",
              "    }\n",
              "    60% {\n",
              "      border-color: transparent;\n",
              "      border-right-color: var(--fill-color);\n",
              "    }\n",
              "    80% {\n",
              "      border-color: transparent;\n",
              "      border-right-color: var(--fill-color);\n",
              "      border-bottom-color: var(--fill-color);\n",
              "    }\n",
              "    90% {\n",
              "      border-color: transparent;\n",
              "      border-bottom-color: var(--fill-color);\n",
              "    }\n",
              "  }\n",
              "</style>\n",
              "\n",
              "  <script>\n",
              "    async function quickchart(key) {\n",
              "      const quickchartButtonEl =\n",
              "        document.querySelector('#' + key + ' button');\n",
              "      quickchartButtonEl.disabled = true;  // To prevent multiple clicks.\n",
              "      quickchartButtonEl.classList.add('colab-df-spinner');\n",
              "      try {\n",
              "        const charts = await google.colab.kernel.invokeFunction(\n",
              "            'suggestCharts', [key], {});\n",
              "      } catch (error) {\n",
              "        console.error('Error during call to suggestCharts:', error);\n",
              "      }\n",
              "      quickchartButtonEl.classList.remove('colab-df-spinner');\n",
              "      quickchartButtonEl.classList.add('colab-df-quickchart-complete');\n",
              "    }\n",
              "    (() => {\n",
              "      let quickchartButtonEl =\n",
              "        document.querySelector('#df-21666787-6fb7-4685-b450-4b4c6352cee3 button');\n",
              "      quickchartButtonEl.style.display =\n",
              "        google.colab.kernel.accessAllowed ? 'block' : 'none';\n",
              "    })();\n",
              "  </script>\n",
              "</div>\n",
              "\n",
              "    </div>\n",
              "  </div>\n"
            ],
            "application/vnd.google.colaboratory.intrinsic+json": {
              "type": "dataframe",
              "summary": "{\n  \"name\": \"my_df\",\n  \"rows\": 5,\n  \"fields\": [\n    {\n      \"column\": \"sepal.length\",\n      \"properties\": {\n        \"dtype\": \"number\",\n        \"std\": 0.30331501776206193,\n        \"min\": 5.9,\n        \"max\": 6.7,\n        \"num_unique_values\": 5,\n        \"samples\": [\n          6.3,\n          5.9,\n          6.5\n        ],\n        \"semantic_type\": \"\",\n        \"description\": \"\"\n      }\n    },\n    {\n      \"column\": \"sepal.width\",\n      \"properties\": {\n        \"dtype\": \"number\",\n        \"std\": 0.31937438845342625,\n        \"min\": 2.5,\n        \"max\": 3.4,\n        \"num_unique_values\": 3,\n        \"samples\": [\n          3.0,\n          2.5,\n          3.4\n        ],\n        \"semantic_type\": \"\",\n        \"description\": \"\"\n      }\n    },\n    {\n      \"column\": \"petal.length\",\n      \"properties\": {\n        \"dtype\": \"number\",\n        \"std\": 0.14832396974191348,\n        \"min\": 5.0,\n        \"max\": 5.4,\n        \"num_unique_values\": 4,\n        \"samples\": [\n          5.0,\n          5.1,\n          5.2\n        ],\n        \"semantic_type\": \"\",\n        \"description\": \"\"\n      }\n    },\n    {\n      \"column\": \"petal.width\",\n      \"properties\": {\n        \"dtype\": \"number\",\n        \"std\": 0.23021728866442667,\n        \"min\": 1.8,\n        \"max\": 2.3,\n        \"num_unique_values\": 4,\n        \"samples\": [\n          1.9,\n          1.8,\n          2.3\n        ],\n        \"semantic_type\": \"\",\n        \"description\": \"\"\n      }\n    },\n    {\n      \"column\": \"variety\",\n      \"properties\": {\n        \"dtype\": \"category\",\n        \"num_unique_values\": 1,\n        \"samples\": [\n          \"Virginica\"\n        ],\n        \"semantic_type\": \"\",\n        \"description\": \"\"\n      }\n    }\n  ]\n}"
            }
          },
          "metadata": {},
          "execution_count": 7
        }
      ]
    },
    {
      "cell_type": "code",
      "source": [
        "# Change last column from strings to integers\n",
        "my_df['variety'] = my_df['variety'].replace('Setosa', 0.0)\n",
        "my_df['variety'] = my_df['variety'].replace('Versicolor', 1.0)\n",
        "my_df['variety'] = my_df['variety'].replace('Virginica', 2.0)\n",
        "my_df.head(2)"
      ],
      "metadata": {
        "colab": {
          "base_uri": "https://localhost:8080/",
          "height": 112
        },
        "id": "GLvOD0dcwTf2",
        "outputId": "49a3022a-a47c-467b-f39e-c1611748e7a6"
      },
      "execution_count": 8,
      "outputs": [
        {
          "output_type": "execute_result",
          "data": {
            "text/plain": [
              "   sepal.length  sepal.width  petal.length  petal.width  variety\n",
              "0           5.1          3.5           1.4          0.2      0.0\n",
              "1           4.9          3.0           1.4          0.2      0.0"
            ],
            "text/html": [
              "\n",
              "  <div id=\"df-0ac612b1-a717-4883-9603-29ec6f0d32e7\" class=\"colab-df-container\">\n",
              "    <div>\n",
              "<style scoped>\n",
              "    .dataframe tbody tr th:only-of-type {\n",
              "        vertical-align: middle;\n",
              "    }\n",
              "\n",
              "    .dataframe tbody tr th {\n",
              "        vertical-align: top;\n",
              "    }\n",
              "\n",
              "    .dataframe thead th {\n",
              "        text-align: right;\n",
              "    }\n",
              "</style>\n",
              "<table border=\"1\" class=\"dataframe\">\n",
              "  <thead>\n",
              "    <tr style=\"text-align: right;\">\n",
              "      <th></th>\n",
              "      <th>sepal.length</th>\n",
              "      <th>sepal.width</th>\n",
              "      <th>petal.length</th>\n",
              "      <th>petal.width</th>\n",
              "      <th>variety</th>\n",
              "    </tr>\n",
              "  </thead>\n",
              "  <tbody>\n",
              "    <tr>\n",
              "      <th>0</th>\n",
              "      <td>5.1</td>\n",
              "      <td>3.5</td>\n",
              "      <td>1.4</td>\n",
              "      <td>0.2</td>\n",
              "      <td>0.0</td>\n",
              "    </tr>\n",
              "    <tr>\n",
              "      <th>1</th>\n",
              "      <td>4.9</td>\n",
              "      <td>3.0</td>\n",
              "      <td>1.4</td>\n",
              "      <td>0.2</td>\n",
              "      <td>0.0</td>\n",
              "    </tr>\n",
              "  </tbody>\n",
              "</table>\n",
              "</div>\n",
              "    <div class=\"colab-df-buttons\">\n",
              "\n",
              "  <div class=\"colab-df-container\">\n",
              "    <button class=\"colab-df-convert\" onclick=\"convertToInteractive('df-0ac612b1-a717-4883-9603-29ec6f0d32e7')\"\n",
              "            title=\"Convert this dataframe to an interactive table.\"\n",
              "            style=\"display:none;\">\n",
              "\n",
              "  <svg xmlns=\"http://www.w3.org/2000/svg\" height=\"24px\" viewBox=\"0 -960 960 960\">\n",
              "    <path d=\"M120-120v-720h720v720H120Zm60-500h600v-160H180v160Zm220 220h160v-160H400v160Zm0 220h160v-160H400v160ZM180-400h160v-160H180v160Zm440 0h160v-160H620v160ZM180-180h160v-160H180v160Zm440 0h160v-160H620v160Z\"/>\n",
              "  </svg>\n",
              "    </button>\n",
              "\n",
              "  <style>\n",
              "    .colab-df-container {\n",
              "      display:flex;\n",
              "      gap: 12px;\n",
              "    }\n",
              "\n",
              "    .colab-df-convert {\n",
              "      background-color: #E8F0FE;\n",
              "      border: none;\n",
              "      border-radius: 50%;\n",
              "      cursor: pointer;\n",
              "      display: none;\n",
              "      fill: #1967D2;\n",
              "      height: 32px;\n",
              "      padding: 0 0 0 0;\n",
              "      width: 32px;\n",
              "    }\n",
              "\n",
              "    .colab-df-convert:hover {\n",
              "      background-color: #E2EBFA;\n",
              "      box-shadow: 0px 1px 2px rgba(60, 64, 67, 0.3), 0px 1px 3px 1px rgba(60, 64, 67, 0.15);\n",
              "      fill: #174EA6;\n",
              "    }\n",
              "\n",
              "    .colab-df-buttons div {\n",
              "      margin-bottom: 4px;\n",
              "    }\n",
              "\n",
              "    [theme=dark] .colab-df-convert {\n",
              "      background-color: #3B4455;\n",
              "      fill: #D2E3FC;\n",
              "    }\n",
              "\n",
              "    [theme=dark] .colab-df-convert:hover {\n",
              "      background-color: #434B5C;\n",
              "      box-shadow: 0px 1px 3px 1px rgba(0, 0, 0, 0.15);\n",
              "      filter: drop-shadow(0px 1px 2px rgba(0, 0, 0, 0.3));\n",
              "      fill: #FFFFFF;\n",
              "    }\n",
              "  </style>\n",
              "\n",
              "    <script>\n",
              "      const buttonEl =\n",
              "        document.querySelector('#df-0ac612b1-a717-4883-9603-29ec6f0d32e7 button.colab-df-convert');\n",
              "      buttonEl.style.display =\n",
              "        google.colab.kernel.accessAllowed ? 'block' : 'none';\n",
              "\n",
              "      async function convertToInteractive(key) {\n",
              "        const element = document.querySelector('#df-0ac612b1-a717-4883-9603-29ec6f0d32e7');\n",
              "        const dataTable =\n",
              "          await google.colab.kernel.invokeFunction('convertToInteractive',\n",
              "                                                    [key], {});\n",
              "        if (!dataTable) return;\n",
              "\n",
              "        const docLinkHtml = 'Like what you see? Visit the ' +\n",
              "          '<a target=\"_blank\" href=https://colab.research.google.com/notebooks/data_table.ipynb>data table notebook</a>'\n",
              "          + ' to learn more about interactive tables.';\n",
              "        element.innerHTML = '';\n",
              "        dataTable['output_type'] = 'display_data';\n",
              "        await google.colab.output.renderOutput(dataTable, element);\n",
              "        const docLink = document.createElement('div');\n",
              "        docLink.innerHTML = docLinkHtml;\n",
              "        element.appendChild(docLink);\n",
              "      }\n",
              "    </script>\n",
              "  </div>\n",
              "\n",
              "\n",
              "<div id=\"df-6c2645e4-39bd-4a6a-a0b5-17395d092350\">\n",
              "  <button class=\"colab-df-quickchart\" onclick=\"quickchart('df-6c2645e4-39bd-4a6a-a0b5-17395d092350')\"\n",
              "            title=\"Suggest charts\"\n",
              "            style=\"display:none;\">\n",
              "\n",
              "<svg xmlns=\"http://www.w3.org/2000/svg\" height=\"24px\"viewBox=\"0 0 24 24\"\n",
              "     width=\"24px\">\n",
              "    <g>\n",
              "        <path d=\"M19 3H5c-1.1 0-2 .9-2 2v14c0 1.1.9 2 2 2h14c1.1 0 2-.9 2-2V5c0-1.1-.9-2-2-2zM9 17H7v-7h2v7zm4 0h-2V7h2v10zm4 0h-2v-4h2v4z\"/>\n",
              "    </g>\n",
              "</svg>\n",
              "  </button>\n",
              "\n",
              "<style>\n",
              "  .colab-df-quickchart {\n",
              "      --bg-color: #E8F0FE;\n",
              "      --fill-color: #1967D2;\n",
              "      --hover-bg-color: #E2EBFA;\n",
              "      --hover-fill-color: #174EA6;\n",
              "      --disabled-fill-color: #AAA;\n",
              "      --disabled-bg-color: #DDD;\n",
              "  }\n",
              "\n",
              "  [theme=dark] .colab-df-quickchart {\n",
              "      --bg-color: #3B4455;\n",
              "      --fill-color: #D2E3FC;\n",
              "      --hover-bg-color: #434B5C;\n",
              "      --hover-fill-color: #FFFFFF;\n",
              "      --disabled-bg-color: #3B4455;\n",
              "      --disabled-fill-color: #666;\n",
              "  }\n",
              "\n",
              "  .colab-df-quickchart {\n",
              "    background-color: var(--bg-color);\n",
              "    border: none;\n",
              "    border-radius: 50%;\n",
              "    cursor: pointer;\n",
              "    display: none;\n",
              "    fill: var(--fill-color);\n",
              "    height: 32px;\n",
              "    padding: 0;\n",
              "    width: 32px;\n",
              "  }\n",
              "\n",
              "  .colab-df-quickchart:hover {\n",
              "    background-color: var(--hover-bg-color);\n",
              "    box-shadow: 0 1px 2px rgba(60, 64, 67, 0.3), 0 1px 3px 1px rgba(60, 64, 67, 0.15);\n",
              "    fill: var(--button-hover-fill-color);\n",
              "  }\n",
              "\n",
              "  .colab-df-quickchart-complete:disabled,\n",
              "  .colab-df-quickchart-complete:disabled:hover {\n",
              "    background-color: var(--disabled-bg-color);\n",
              "    fill: var(--disabled-fill-color);\n",
              "    box-shadow: none;\n",
              "  }\n",
              "\n",
              "  .colab-df-spinner {\n",
              "    border: 2px solid var(--fill-color);\n",
              "    border-color: transparent;\n",
              "    border-bottom-color: var(--fill-color);\n",
              "    animation:\n",
              "      spin 1s steps(1) infinite;\n",
              "  }\n",
              "\n",
              "  @keyframes spin {\n",
              "    0% {\n",
              "      border-color: transparent;\n",
              "      border-bottom-color: var(--fill-color);\n",
              "      border-left-color: var(--fill-color);\n",
              "    }\n",
              "    20% {\n",
              "      border-color: transparent;\n",
              "      border-left-color: var(--fill-color);\n",
              "      border-top-color: var(--fill-color);\n",
              "    }\n",
              "    30% {\n",
              "      border-color: transparent;\n",
              "      border-left-color: var(--fill-color);\n",
              "      border-top-color: var(--fill-color);\n",
              "      border-right-color: var(--fill-color);\n",
              "    }\n",
              "    40% {\n",
              "      border-color: transparent;\n",
              "      border-right-color: var(--fill-color);\n",
              "      border-top-color: var(--fill-color);\n",
              "    }\n",
              "    60% {\n",
              "      border-color: transparent;\n",
              "      border-right-color: var(--fill-color);\n",
              "    }\n",
              "    80% {\n",
              "      border-color: transparent;\n",
              "      border-right-color: var(--fill-color);\n",
              "      border-bottom-color: var(--fill-color);\n",
              "    }\n",
              "    90% {\n",
              "      border-color: transparent;\n",
              "      border-bottom-color: var(--fill-color);\n",
              "    }\n",
              "  }\n",
              "</style>\n",
              "\n",
              "  <script>\n",
              "    async function quickchart(key) {\n",
              "      const quickchartButtonEl =\n",
              "        document.querySelector('#' + key + ' button');\n",
              "      quickchartButtonEl.disabled = true;  // To prevent multiple clicks.\n",
              "      quickchartButtonEl.classList.add('colab-df-spinner');\n",
              "      try {\n",
              "        const charts = await google.colab.kernel.invokeFunction(\n",
              "            'suggestCharts', [key], {});\n",
              "      } catch (error) {\n",
              "        console.error('Error during call to suggestCharts:', error);\n",
              "      }\n",
              "      quickchartButtonEl.classList.remove('colab-df-spinner');\n",
              "      quickchartButtonEl.classList.add('colab-df-quickchart-complete');\n",
              "    }\n",
              "    (() => {\n",
              "      let quickchartButtonEl =\n",
              "        document.querySelector('#df-6c2645e4-39bd-4a6a-a0b5-17395d092350 button');\n",
              "      quickchartButtonEl.style.display =\n",
              "        google.colab.kernel.accessAllowed ? 'block' : 'none';\n",
              "    })();\n",
              "  </script>\n",
              "</div>\n",
              "\n",
              "    </div>\n",
              "  </div>\n"
            ],
            "application/vnd.google.colaboratory.intrinsic+json": {
              "type": "dataframe",
              "variable_name": "my_df",
              "summary": "{\n  \"name\": \"my_df\",\n  \"rows\": 150,\n  \"fields\": [\n    {\n      \"column\": \"sepal.length\",\n      \"properties\": {\n        \"dtype\": \"number\",\n        \"std\": 0.828066127977863,\n        \"min\": 4.3,\n        \"max\": 7.9,\n        \"num_unique_values\": 35,\n        \"samples\": [\n          6.2,\n          4.5,\n          5.6\n        ],\n        \"semantic_type\": \"\",\n        \"description\": \"\"\n      }\n    },\n    {\n      \"column\": \"sepal.width\",\n      \"properties\": {\n        \"dtype\": \"number\",\n        \"std\": 0.4358662849366982,\n        \"min\": 2.0,\n        \"max\": 4.4,\n        \"num_unique_values\": 23,\n        \"samples\": [\n          2.3,\n          4.0,\n          3.5\n        ],\n        \"semantic_type\": \"\",\n        \"description\": \"\"\n      }\n    },\n    {\n      \"column\": \"petal.length\",\n      \"properties\": {\n        \"dtype\": \"number\",\n        \"std\": 1.7652982332594662,\n        \"min\": 1.0,\n        \"max\": 6.9,\n        \"num_unique_values\": 43,\n        \"samples\": [\n          6.7,\n          3.8,\n          3.7\n        ],\n        \"semantic_type\": \"\",\n        \"description\": \"\"\n      }\n    },\n    {\n      \"column\": \"petal.width\",\n      \"properties\": {\n        \"dtype\": \"number\",\n        \"std\": 0.7622376689603465,\n        \"min\": 0.1,\n        \"max\": 2.5,\n        \"num_unique_values\": 22,\n        \"samples\": [\n          0.2,\n          1.2,\n          1.3\n        ],\n        \"semantic_type\": \"\",\n        \"description\": \"\"\n      }\n    },\n    {\n      \"column\": \"variety\",\n      \"properties\": {\n        \"dtype\": \"number\",\n        \"std\": 0.8192319205190405,\n        \"min\": 0.0,\n        \"max\": 2.0,\n        \"num_unique_values\": 3,\n        \"samples\": [\n          0.0,\n          1.0,\n          2.0\n        ],\n        \"semantic_type\": \"\",\n        \"description\": \"\"\n      }\n    }\n  ]\n}"
            }
          },
          "metadata": {},
          "execution_count": 8
        }
      ]
    },
    {
      "cell_type": "code",
      "source": [
        "# Train Test Split! Set x,y\n",
        "\n",
        "X = my_df.drop('variety', axis = 1)\n",
        "y = my_df['variety']"
      ],
      "metadata": {
        "id": "fvkwBZX5wlf7"
      },
      "execution_count": 9,
      "outputs": []
    },
    {
      "cell_type": "code",
      "source": [
        "X.head(1)"
      ],
      "metadata": {
        "colab": {
          "base_uri": "https://localhost:8080/",
          "height": 81
        },
        "id": "NgCBiv2gxCyP",
        "outputId": "88ac966a-bad0-4d1b-adb3-838922a3f4ec"
      },
      "execution_count": 10,
      "outputs": [
        {
          "output_type": "execute_result",
          "data": {
            "text/plain": [
              "   sepal.length  sepal.width  petal.length  petal.width\n",
              "0           5.1          3.5           1.4          0.2"
            ],
            "text/html": [
              "\n",
              "  <div id=\"df-462329b4-fb22-4a8c-b5f3-ef38f0aae33d\" class=\"colab-df-container\">\n",
              "    <div>\n",
              "<style scoped>\n",
              "    .dataframe tbody tr th:only-of-type {\n",
              "        vertical-align: middle;\n",
              "    }\n",
              "\n",
              "    .dataframe tbody tr th {\n",
              "        vertical-align: top;\n",
              "    }\n",
              "\n",
              "    .dataframe thead th {\n",
              "        text-align: right;\n",
              "    }\n",
              "</style>\n",
              "<table border=\"1\" class=\"dataframe\">\n",
              "  <thead>\n",
              "    <tr style=\"text-align: right;\">\n",
              "      <th></th>\n",
              "      <th>sepal.length</th>\n",
              "      <th>sepal.width</th>\n",
              "      <th>petal.length</th>\n",
              "      <th>petal.width</th>\n",
              "    </tr>\n",
              "  </thead>\n",
              "  <tbody>\n",
              "    <tr>\n",
              "      <th>0</th>\n",
              "      <td>5.1</td>\n",
              "      <td>3.5</td>\n",
              "      <td>1.4</td>\n",
              "      <td>0.2</td>\n",
              "    </tr>\n",
              "  </tbody>\n",
              "</table>\n",
              "</div>\n",
              "    <div class=\"colab-df-buttons\">\n",
              "\n",
              "  <div class=\"colab-df-container\">\n",
              "    <button class=\"colab-df-convert\" onclick=\"convertToInteractive('df-462329b4-fb22-4a8c-b5f3-ef38f0aae33d')\"\n",
              "            title=\"Convert this dataframe to an interactive table.\"\n",
              "            style=\"display:none;\">\n",
              "\n",
              "  <svg xmlns=\"http://www.w3.org/2000/svg\" height=\"24px\" viewBox=\"0 -960 960 960\">\n",
              "    <path d=\"M120-120v-720h720v720H120Zm60-500h600v-160H180v160Zm220 220h160v-160H400v160Zm0 220h160v-160H400v160ZM180-400h160v-160H180v160Zm440 0h160v-160H620v160ZM180-180h160v-160H180v160Zm440 0h160v-160H620v160Z\"/>\n",
              "  </svg>\n",
              "    </button>\n",
              "\n",
              "  <style>\n",
              "    .colab-df-container {\n",
              "      display:flex;\n",
              "      gap: 12px;\n",
              "    }\n",
              "\n",
              "    .colab-df-convert {\n",
              "      background-color: #E8F0FE;\n",
              "      border: none;\n",
              "      border-radius: 50%;\n",
              "      cursor: pointer;\n",
              "      display: none;\n",
              "      fill: #1967D2;\n",
              "      height: 32px;\n",
              "      padding: 0 0 0 0;\n",
              "      width: 32px;\n",
              "    }\n",
              "\n",
              "    .colab-df-convert:hover {\n",
              "      background-color: #E2EBFA;\n",
              "      box-shadow: 0px 1px 2px rgba(60, 64, 67, 0.3), 0px 1px 3px 1px rgba(60, 64, 67, 0.15);\n",
              "      fill: #174EA6;\n",
              "    }\n",
              "\n",
              "    .colab-df-buttons div {\n",
              "      margin-bottom: 4px;\n",
              "    }\n",
              "\n",
              "    [theme=dark] .colab-df-convert {\n",
              "      background-color: #3B4455;\n",
              "      fill: #D2E3FC;\n",
              "    }\n",
              "\n",
              "    [theme=dark] .colab-df-convert:hover {\n",
              "      background-color: #434B5C;\n",
              "      box-shadow: 0px 1px 3px 1px rgba(0, 0, 0, 0.15);\n",
              "      filter: drop-shadow(0px 1px 2px rgba(0, 0, 0, 0.3));\n",
              "      fill: #FFFFFF;\n",
              "    }\n",
              "  </style>\n",
              "\n",
              "    <script>\n",
              "      const buttonEl =\n",
              "        document.querySelector('#df-462329b4-fb22-4a8c-b5f3-ef38f0aae33d button.colab-df-convert');\n",
              "      buttonEl.style.display =\n",
              "        google.colab.kernel.accessAllowed ? 'block' : 'none';\n",
              "\n",
              "      async function convertToInteractive(key) {\n",
              "        const element = document.querySelector('#df-462329b4-fb22-4a8c-b5f3-ef38f0aae33d');\n",
              "        const dataTable =\n",
              "          await google.colab.kernel.invokeFunction('convertToInteractive',\n",
              "                                                    [key], {});\n",
              "        if (!dataTable) return;\n",
              "\n",
              "        const docLinkHtml = 'Like what you see? Visit the ' +\n",
              "          '<a target=\"_blank\" href=https://colab.research.google.com/notebooks/data_table.ipynb>data table notebook</a>'\n",
              "          + ' to learn more about interactive tables.';\n",
              "        element.innerHTML = '';\n",
              "        dataTable['output_type'] = 'display_data';\n",
              "        await google.colab.output.renderOutput(dataTable, element);\n",
              "        const docLink = document.createElement('div');\n",
              "        docLink.innerHTML = docLinkHtml;\n",
              "        element.appendChild(docLink);\n",
              "      }\n",
              "    </script>\n",
              "  </div>\n",
              "\n",
              "\n",
              "    </div>\n",
              "  </div>\n"
            ],
            "application/vnd.google.colaboratory.intrinsic+json": {
              "type": "dataframe",
              "variable_name": "X",
              "summary": "{\n  \"name\": \"X\",\n  \"rows\": 150,\n  \"fields\": [\n    {\n      \"column\": \"sepal.length\",\n      \"properties\": {\n        \"dtype\": \"number\",\n        \"std\": 0.828066127977863,\n        \"min\": 4.3,\n        \"max\": 7.9,\n        \"num_unique_values\": 35,\n        \"samples\": [\n          6.2,\n          4.5,\n          5.6\n        ],\n        \"semantic_type\": \"\",\n        \"description\": \"\"\n      }\n    },\n    {\n      \"column\": \"sepal.width\",\n      \"properties\": {\n        \"dtype\": \"number\",\n        \"std\": 0.4358662849366982,\n        \"min\": 2.0,\n        \"max\": 4.4,\n        \"num_unique_values\": 23,\n        \"samples\": [\n          2.3,\n          4.0,\n          3.5\n        ],\n        \"semantic_type\": \"\",\n        \"description\": \"\"\n      }\n    },\n    {\n      \"column\": \"petal.length\",\n      \"properties\": {\n        \"dtype\": \"number\",\n        \"std\": 1.7652982332594662,\n        \"min\": 1.0,\n        \"max\": 6.9,\n        \"num_unique_values\": 43,\n        \"samples\": [\n          6.7,\n          3.8,\n          3.7\n        ],\n        \"semantic_type\": \"\",\n        \"description\": \"\"\n      }\n    },\n    {\n      \"column\": \"petal.width\",\n      \"properties\": {\n        \"dtype\": \"number\",\n        \"std\": 0.7622376689603465,\n        \"min\": 0.1,\n        \"max\": 2.5,\n        \"num_unique_values\": 22,\n        \"samples\": [\n          0.2,\n          1.2,\n          1.3\n        ],\n        \"semantic_type\": \"\",\n        \"description\": \"\"\n      }\n    }\n  ]\n}"
            }
          },
          "metadata": {},
          "execution_count": 10
        }
      ]
    },
    {
      "cell_type": "code",
      "source": [
        "y.head(1)"
      ],
      "metadata": {
        "colab": {
          "base_uri": "https://localhost:8080/"
        },
        "id": "ISaBq3_0xDPA",
        "outputId": "965bb099-2c8d-42d0-ea15-0d2769d5f243"
      },
      "execution_count": 11,
      "outputs": [
        {
          "output_type": "execute_result",
          "data": {
            "text/plain": [
              "0    0.0\n",
              "Name: variety, dtype: float64"
            ]
          },
          "metadata": {},
          "execution_count": 11
        }
      ]
    },
    {
      "cell_type": "code",
      "source": [
        "# Convert these to numpy arrays\n",
        "X = X.values\n",
        "y = y.values"
      ],
      "metadata": {
        "id": "-cFAO1gtxTgy"
      },
      "execution_count": 12,
      "outputs": []
    },
    {
      "cell_type": "code",
      "source": [
        "X[0:2]"
      ],
      "metadata": {
        "colab": {
          "base_uri": "https://localhost:8080/"
        },
        "id": "vcK8EjjixaPQ",
        "outputId": "6c8f99f7-ee5a-4dd6-bb43-bd403748c494"
      },
      "execution_count": 13,
      "outputs": [
        {
          "output_type": "execute_result",
          "data": {
            "text/plain": [
              "array([[5.1, 3.5, 1.4, 0.2],\n",
              "       [4.9, 3. , 1.4, 0.2]])"
            ]
          },
          "metadata": {},
          "execution_count": 13
        }
      ]
    },
    {
      "cell_type": "code",
      "source": [
        "from sklearn.model_selection import train_test_split\n",
        "# Train Test Split\n",
        "\n",
        "X_train, X_test, y_train, y_test = train_test_split(X, y, test_size = 0.2, random_state = 41)"
      ],
      "metadata": {
        "id": "gBLY8C_axbGD"
      },
      "execution_count": 14,
      "outputs": []
    },
    {
      "cell_type": "code",
      "source": [
        "# Convert X Features to float tensor\n",
        "X_train = torch.FloatTensor(X_train)\n",
        "X_test = torch.FloatTensor(X_test)\n",
        "\n",
        "#Conver y labels to tensors long (64-bit integers)\n",
        "y_train = torch.LongTensor(y_train)\n",
        "y_test = torch.LongTensor(y_test)"
      ],
      "metadata": {
        "id": "CDmYgCUfyJOD"
      },
      "execution_count": 15,
      "outputs": []
    },
    {
      "cell_type": "code",
      "source": [
        "X_test[0:2]"
      ],
      "metadata": {
        "colab": {
          "base_uri": "https://localhost:8080/"
        },
        "id": "CxslVND2yV1J",
        "outputId": "b89356ff-b732-4af8-dc10-8e8bbb52347c"
      },
      "execution_count": 16,
      "outputs": [
        {
          "output_type": "execute_result",
          "data": {
            "text/plain": [
              "tensor([[6.0000, 2.2000, 5.0000, 1.5000],\n",
              "        [6.4000, 2.8000, 5.6000, 2.1000]])"
            ]
          },
          "metadata": {},
          "execution_count": 16
        }
      ]
    },
    {
      "cell_type": "code",
      "source": [
        "y_test[0:2]"
      ],
      "metadata": {
        "colab": {
          "base_uri": "https://localhost:8080/"
        },
        "id": "S1sbCuj0yWcB",
        "outputId": "0d0ff7d6-012b-421c-c04d-afcb5fd8930a"
      },
      "execution_count": 17,
      "outputs": [
        {
          "output_type": "execute_result",
          "data": {
            "text/plain": [
              "tensor([2, 2])"
            ]
          },
          "metadata": {},
          "execution_count": 17
        }
      ]
    },
    {
      "cell_type": "markdown",
      "source": [
        "### Set Criterion and Optimizer"
      ],
      "metadata": {
        "id": "NcRxR90Ny9v8"
      }
    },
    {
      "cell_type": "code",
      "source": [
        "# Set the criterion of model to measure the error, how far off the predictions are from the data\n",
        "\n",
        "criterion = nn.CrossEntropyLoss()\n",
        "\n",
        "# Chosee Adam Optimizer, lr = learning rate(if error doesn't go down after a bunc of iterations (epocs), lower our learning rate)\n",
        "optimizer = torch.optim.Adam(model.parameters(), lr = 0.01)"
      ],
      "metadata": {
        "id": "o5pLvLsxyhqG"
      },
      "execution_count": 18,
      "outputs": []
    },
    {
      "cell_type": "code",
      "source": [
        "# Train our model!\n",
        "# Epochs (one run thru all the training data in out network)\n",
        "epochs = 100\n",
        "losses = []\n",
        "for i in range(epochs):\n",
        "  # Go forwards and get a prediction\n",
        "  y_pred = model.forward(X_train) # Get predicted results\n",
        "\n",
        "  # Measure the loss/error\n",
        "  loss = criterion(y_pred, y_train) # predicted values vs the y_train\n",
        "\n",
        "  # Keep Track of our losses\n",
        "  losses.append(loss.detach().numpy())\n",
        "\n",
        "  # print every 10 epoch\n",
        "  if i % 10 == 0:\n",
        "    print(f'Epoch: {i}, Loss: {loss}')\n",
        "\n",
        "  # Do some back propagation : take the error rate of forward propagation and\n",
        "  # feed it back thru the network to fine tune the weights\n",
        "  optimizer.zero_grad()\n",
        "  loss.backward()\n",
        "  optimizer.step()"
      ],
      "metadata": {
        "colab": {
          "base_uri": "https://localhost:8080/"
        },
        "id": "HGB-sVNV3YBU",
        "outputId": "27986455-09d8-4044-920b-2529f371a929"
      },
      "execution_count": 19,
      "outputs": [
        {
          "output_type": "stream",
          "name": "stdout",
          "text": [
            "Epoch: 0, Loss: 1.125203251838684\n",
            "Epoch: 10, Loss: 1.0097211599349976\n",
            "Epoch: 20, Loss: 0.8162347674369812\n",
            "Epoch: 30, Loss: 0.585993230342865\n",
            "Epoch: 40, Loss: 0.4003389775753021\n",
            "Epoch: 50, Loss: 0.26794716715812683\n",
            "Epoch: 60, Loss: 0.1796349585056305\n",
            "Epoch: 70, Loss: 0.12165623158216476\n",
            "Epoch: 80, Loss: 0.0860651507973671\n",
            "Epoch: 90, Loss: 0.06522614508867264\n"
          ]
        }
      ]
    },
    {
      "cell_type": "code",
      "source": [
        "# Graph it out!\n",
        "\n",
        "plt.plot(range(epochs), losses)\n",
        "plt.ylabel(\"loss/error\")\n",
        "plt.xlabel(\"Epochs\")"
      ],
      "metadata": {
        "colab": {
          "base_uri": "https://localhost:8080/",
          "height": 466
        },
        "id": "5ilILGGc5JXt",
        "outputId": "1503701a-5033-4462-cd91-f973966c84cb"
      },
      "execution_count": 20,
      "outputs": [
        {
          "output_type": "execute_result",
          "data": {
            "text/plain": [
              "Text(0.5, 0, 'Epochs')"
            ]
          },
          "metadata": {},
          "execution_count": 20
        },
        {
          "output_type": "display_data",
          "data": {
            "text/plain": [
              "<Figure size 640x480 with 1 Axes>"
            ],
            "image/png": "[encoded data removed]"
          },
          "metadata": {}
        }
      ]
    },
    {
      "cell_type": "code",
      "source": [
        "# Evaluate Model on Test Data Set (validate model on test data)\n",
        "with torch.no_grad(): # Basically turn off back propagation\n",
        "  y_eval = model.forward(X_test) # X_test are features from our test set, y_eval will be predictions\n",
        "  loss = criterion(y_eval, y_test) # Find the loss or error\n",
        "\n"
      ],
      "metadata": {
        "id": "Ng_8NS-45rSA"
      },
      "execution_count": 21,
      "outputs": []
    },
    {
      "cell_type": "code",
      "source": [
        "loss # 0.1315 doesn't look great. This should be closer to 100. epochs."
      ],
      "metadata": {
        "colab": {
          "base_uri": "https://localhost:8080/"
        },
        "id": "noYBrKGi_02u",
        "outputId": "66827374-555e-4936-c4d5-f370fe39bb6d"
      },
      "execution_count": 22,
      "outputs": [
        {
          "output_type": "execute_result",
          "data": {
            "text/plain": [
              "tensor(0.1315)"
            ]
          },
          "metadata": {},
          "execution_count": 22
        }
      ]
    },
    {
      "cell_type": "code",
      "source": [
        "correct = 0\n",
        "with torch.no_grad():\n",
        "  for i, data in enumerate(X_test):\n",
        "    y_val = model.forward(data)\n",
        "\n",
        "    # Will tell us what type of flower class our network thinks it is\n",
        "    # The highest number is what our Network thinks the flower is\n",
        "    print(f'{i+1}:.) {str(y_val)} \\t Actual: {y_test[i]} \\t Predicted: {y_val.argmax().item()}')\n",
        "\n",
        "    # Correct or not\n",
        "    if y_val.argmax().item() == y_test[i]:\n",
        "      correct += 1\n",
        "\n",
        "print(f'We got {correct} correct')"
      ],
      "metadata": {
        "colab": {
          "base_uri": "https://localhost:8080/"
        },
        "id": "J_Y9j-TH_1Rk",
        "outputId": "401d530d-c497-451c-8a2a-2559d75d6a31"
      },
      "execution_count": 23,
      "outputs": [
        {
          "output_type": "stream",
          "name": "stdout",
          "text": [
            "1:.) tensor([-5.8771,  4.4629,  6.5155]) \t Actual: 2 \t Predicted: 2\n",
            "2:.) tensor([-7.5451,  4.1668,  9.7293]) \t Actual: 2 \t Predicted: 2\n",
            "3:.) tensor([-8.4517,  5.1275, 10.2015]) \t Actual: 2 \t Predicted: 2\n",
            "4:.) tensor([-4.3411,  5.6280,  2.5636]) \t Actual: 1 \t Predicted: 1\n",
            "5:.) tensor([-7.1838,  4.8757,  8.3023]) \t Actual: 2 \t Predicted: 2\n",
            "6:.) tensor([-3.3940,  5.3421,  1.2802]) \t Actual: 1 \t Predicted: 1\n",
            "7:.) tensor([-5.9240,  4.9826,  6.0025]) \t Actual: 2 \t Predicted: 2\n",
            "8:.) tensor([-4.2895,  5.7016,  2.3920]) \t Actual: 1 \t Predicted: 1\n",
            "9:.) tensor([-6.5369,  4.9261,  7.1291]) \t Actual: 2 \t Predicted: 2\n",
            "10:.) tensor([-8.0526,  4.4129, 10.3325]) \t Actual: 2 \t Predicted: 2\n",
            "11:.) tensor([-5.6775,  4.9505,  5.6248]) \t Actual: 2 \t Predicted: 2\n",
            "12:.) tensor([ 4.5748, -2.2579, -2.8925]) \t Actual: 0 \t Predicted: 0\n",
            "13:.) tensor([ 4.2646, -2.0055, -2.7342]) \t Actual: 0 \t Predicted: 0\n",
            "14:.) tensor([-2.1081,  4.0482,  0.5803]) \t Actual: 1 \t Predicted: 1\n",
            "15:.) tensor([ 3.4608, -1.2147, -2.3488]) \t Actual: 0 \t Predicted: 0\n",
            "16:.) tensor([-5.4739,  5.1174,  5.0966]) \t Actual: 2 \t Predicted: 1\n",
            "17:.) tensor([ 4.0637, -1.8045, -2.6504]) \t Actual: 0 \t Predicted: 0\n",
            "18:.) tensor([-5.8090,  4.6057,  6.2494]) \t Actual: 1 \t Predicted: 2\n",
            "19:.) tensor([ 4.9250, -2.5763, -3.0545]) \t Actual: 0 \t Predicted: 0\n",
            "20:.) tensor([ 3.4559, -1.2559, -2.3637]) \t Actual: 0 \t Predicted: 0\n",
            "21:.) tensor([-2.6161,  4.5584,  0.8575]) \t Actual: 1 \t Predicted: 1\n",
            "22:.) tensor([-7.7427,  4.7379,  9.4233]) \t Actual: 2 \t Predicted: 2\n",
            "23:.) tensor([ 3.5776, -1.3269, -2.4109]) \t Actual: 0 \t Predicted: 0\n",
            "24:.) tensor([ 4.5445, -2.2478, -2.8698]) \t Actual: 0 \t Predicted: 0\n",
            "25:.) tensor([-2.6548,  4.6138,  0.8825]) \t Actual: 1 \t Predicted: 1\n",
            "26:.) tensor([-3.2832,  5.2189,  1.2163]) \t Actual: 1 \t Predicted: 1\n",
            "27:.) tensor([-4.6527,  5.7790,  2.9302]) \t Actual: 1 \t Predicted: 1\n",
            "28:.) tensor([-2.9436,  4.8858,  1.0381]) \t Actual: 1 \t Predicted: 1\n",
            "29:.) tensor([ 4.5932, -2.2788, -2.8989]) \t Actual: 0 \t Predicted: 0\n",
            "30:.) tensor([-4.5797,  5.4566,  3.1690]) \t Actual: 1 \t Predicted: 1\n",
            "We got 28 correct\n"
          ]
        }
      ]
    },
    {
      "cell_type": "markdown",
      "source": [
        "# 8 - Evaluate New Data On The Network\n"
      ],
      "metadata": {
        "id": "E6YHBaBCfc8M"
      }
    },
    {
      "cell_type": "code",
      "source": [
        "new_iris = torch.tensor([4.7, 3.2, 1.3, 0.2])\n"
      ],
      "metadata": {
        "id": "HNCCickeAj0Y"
      },
      "execution_count": 24,
      "outputs": []
    },
    {
      "cell_type": "code",
      "source": [
        "with torch.no_grad():\n",
        "  print(model(new_iris))\n"
      ],
      "metadata": {
        "colab": {
          "base_uri": "https://localhost:8080/"
        },
        "id": "Ca7ws7szfqGK",
        "outputId": "0401c980-d0b5-4915-8352-bcdf7450f6fd"
      },
      "execution_count": 25,
      "outputs": [
        {
          "output_type": "stream",
          "name": "stdout",
          "text": [
            "tensor([ 4.5445, -2.2478, -2.8698])\n"
          ]
        }
      ]
    },
    {
      "cell_type": "code",
      "source": [
        "newer_iris = torch.tensor([5.9, 3.0, 5.1, 1.8])\n",
        "with torch.no_grad():\n",
        "  print(model(newer_iris))"
      ],
      "metadata": {
        "colab": {
          "base_uri": "https://localhost:8080/"
        },
        "id": "8MhVRF-Gfyzw",
        "outputId": "fbd7cbee-c1cf-4458-d774-bb9f8a6b4456"
      },
      "execution_count": 27,
      "outputs": [
        {
          "output_type": "stream",
          "name": "stdout",
          "text": [
            "tensor([-5.9960,  4.5080,  6.6831])\n"
          ]
        }
      ]
    },
    {
      "cell_type": "markdown",
      "source": [
        "# 9 - Save and Load Neural Network Model"
      ],
      "metadata": {
        "id": "3H3YQyidgc5r"
      }
    },
    {
      "cell_type": "code",
      "source": [
        "# Save our NN Model\n",
        "torch.save(model.state_dict(), 'iris_model.pt')\n"
      ],
      "metadata": {
        "id": "29UfPVwHgFII"
      },
      "execution_count": 28,
      "outputs": []
    },
    {
      "cell_type": "code",
      "source": [
        "# Load or Saved Model\n",
        "\n",
        "new_model = Model()\n",
        "new_model.load_state_dict(torch.load('iris_model.pt'))"
      ],
      "metadata": {
        "colab": {
          "base_uri": "https://localhost:8080/"
        },
        "id": "VbiR0Cnkg83-",
        "outputId": "db446947-24c0-4661-d042-c7b9e5f2f95f"
      },
      "execution_count": 29,
      "outputs": [
        {
          "output_type": "execute_result",
          "data": {
            "text/plain": [
              "<All keys matched successfully>"
            ]
          },
          "metadata": {},
          "execution_count": 29
        }
      ]
    },
    {
      "cell_type": "code",
      "source": [
        "# Make sure it loaded correctly\n",
        "new_model.eval()"
      ],
      "metadata": {
        "id": "GEbY_siYhI-0",
        "outputId": "d81eecbc-67db-49ae-f81e-351b5e3754a0",
        "colab": {
          "base_uri": "https://localhost:8080/"
        }
      },
      "execution_count": 30,
      "outputs": [
        {
          "output_type": "execute_result",
          "data": {
            "text/plain": [
              "Model(\n",
              "  (fc1): Linear(in_features=4, out_features=8, bias=True)\n",
              "  (fc2): Linear(in_features=8, out_features=9, bias=True)\n",
              "  (out): Linear(in_features=9, out_features=3, bias=True)\n",
              ")"
            ]
          },
          "metadata": {},
          "execution_count": 30
        }
      ]
    },
    {
      "cell_type": "code",
      "source": [],
      "metadata": {
        "id": "jBIsbsCrhMyt"
      },
      "execution_count": null,
      "outputs": []
    }
  ]
}