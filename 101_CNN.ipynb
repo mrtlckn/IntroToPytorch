{
  "nbformat": 4,
  "nbformat_minor": 0,
  "metadata": {
    "colab": {
      "provenance": [],
      "gpuType": "T4",
      "authorship_tag": "ABX9TyNX47FrLczL3Sh3qDrq75w5",
      "include_colab_link": true
    },
    "kernelspec": {
      "name": "python3",
      "display_name": "Python 3"
    },
    "language_info": {
      "name": "python"
    },
    "accelerator": "GPU"
  },
  "cells": [
    {
      "cell_type": "markdown",
      "metadata": {
        "id": "view-in-github",
        "colab_type": "text"
      },
      "source": [
        "<a href=\"https://colab.research.google.com/github/mrtlckn/IntroToPytorch/blob/main/101_CNN.ipynb\" target=\"_parent\"><img src=\"https://colab.research.google.com/assets/colab-badge.svg\" alt=\"Open In Colab\"/></a>"
      ]
    },
    {
      "cell_type": "code",
      "source": [
        "import torch\n",
        "\n",
        "import torch.nn as nn\n",
        "import torch.nn.functional as F\n",
        "from torch.utils.data import DataLoader\n",
        "from torchvision import datasets, transforms\n",
        "from torchvision.utils import make_grid\n",
        "\n",
        "import numpy as np\n",
        "import pandas as pd\n",
        "from sklearn.metrics import confusion_matrix\n",
        "import matplotlib.pyplot as plt\n",
        "%matplotlib inline"
      ],
      "metadata": {
        "id": "Xsf-19sGFX1L"
      },
      "execution_count": 53,
      "outputs": []
    },
    {
      "cell_type": "markdown",
      "source": [
        " # 1- Load MNIST dataset"
      ],
      "metadata": {
        "id": "zn5OmsbiIr_H"
      }
    },
    {
      "cell_type": "code",
      "source": [
        "# Convert MNIST Image Files into a Tensor of 4-Dimensios(# of images, Height, Widht, Color Channel)\n",
        "transform = transforms.ToTensor()"
      ],
      "metadata": {
        "id": "ThAVRgYnHJqA"
      },
      "execution_count": 54,
      "outputs": []
    },
    {
      "cell_type": "code",
      "source": [
        "# Train Data\n",
        "train_data = datasets.MNIST(root = '/cnn_data', train=True, download=True, transform=transform)\n",
        "# Test Data\n",
        "test_data = datasets.MNIST(root = '/cnn_data', train=False, download=True, transform=transform)\n",
        "\n"
      ],
      "metadata": {
        "id": "sxyznWXmHjmD"
      },
      "execution_count": 55,
      "outputs": []
    },
    {
      "cell_type": "code",
      "source": [
        "train_data"
      ],
      "metadata": {
        "colab": {
          "base_uri": "https://localhost:8080/"
        },
        "id": "dBe6f-BRHwp2",
        "outputId": "ec902900-18f1-49cc-831d-1feb3971f031"
      },
      "execution_count": 56,
      "outputs": [
        {
          "output_type": "execute_result",
          "data": {
            "text/plain": [
              "Dataset MNIST\n",
              "    Number of datapoints: 60000\n",
              "    Root location: /cnn_data\n",
              "    Split: Train\n",
              "    StandardTransform\n",
              "Transform: ToTensor()"
            ]
          },
          "metadata": {},
          "execution_count": 56
        }
      ]
    },
    {
      "cell_type": "code",
      "source": [
        "test_data"
      ],
      "metadata": {
        "colab": {
          "base_uri": "https://localhost:8080/"
        },
        "id": "RyyQJWzyIDqb",
        "outputId": "6bba7250-957b-4ff2-fe13-32af8c5fac6d"
      },
      "execution_count": 57,
      "outputs": [
        {
          "output_type": "execute_result",
          "data": {
            "text/plain": [
              "Dataset MNIST\n",
              "    Number of datapoints: 10000\n",
              "    Root location: /cnn_data\n",
              "    Split: Test\n",
              "    StandardTransform\n",
              "Transform: ToTensor()"
            ]
          },
          "metadata": {},
          "execution_count": 57
        }
      ]
    },
    {
      "cell_type": "markdown",
      "source": [
        "# 2- Convolutional and Pooling Layers"
      ],
      "metadata": {
        "id": "LTPppcmUIwLi"
      }
    },
    {
      "cell_type": "code",
      "source": [
        "# Create a small batch size for images... let's say 10\n",
        "train_loader = DataLoader(train_data, batch_size = 10, shuffle= True)\n",
        "test_loader = DataLoader(test_data, batch_size = 10, shuffle= False)"
      ],
      "metadata": {
        "id": "3vIxljywIfR-"
      },
      "execution_count": 58,
      "outputs": []
    },
    {
      "cell_type": "code",
      "source": [
        "# Define Our CNN Model\n",
        "# Describe CNN layer and what it's doing\n",
        "# This is just an example in the next chapter we'll build out the actual model\n",
        "\n",
        "conv1 =  nn.Conv2d(1, 6, 3, 1)\n",
        "conv2 =  nn.Conv2d(6, 16, 3, 1)\n"
      ],
      "metadata": {
        "id": "NwYOZFpHKQPQ"
      },
      "execution_count": 59,
      "outputs": []
    },
    {
      "cell_type": "code",
      "source": [
        "# Grab 1 MNIST Record\n",
        "for i, (X_train, y_train) in enumerate (train_data):\n",
        "  break"
      ],
      "metadata": {
        "id": "BG5uxBx4K2Ta"
      },
      "execution_count": 60,
      "outputs": []
    },
    {
      "cell_type": "code",
      "source": [
        "X_train.shape"
      ],
      "metadata": {
        "colab": {
          "base_uri": "https://localhost:8080/"
        },
        "id": "McmK5Sm0LAcH",
        "outputId": "f282cb8b-2312-4892-ee49-caf10b194fc4"
      },
      "execution_count": 61,
      "outputs": [
        {
          "output_type": "execute_result",
          "data": {
            "text/plain": [
              "torch.Size([1, 28, 28])"
            ]
          },
          "metadata": {},
          "execution_count": 61
        }
      ]
    },
    {
      "cell_type": "code",
      "source": [
        "x = X_train.view(1,1,28,28) # four dimensions. (1 batch, 1 image and size)"
      ],
      "metadata": {
        "id": "9R0RVIX7LA_W"
      },
      "execution_count": 62,
      "outputs": []
    },
    {
      "cell_type": "code",
      "source": [
        "# Perform our first convolution\n",
        "x = F.relu(conv1(x)) # Rectified Linear Unit for out activation function"
      ],
      "metadata": {
        "id": "DfOWI8wbLa1i"
      },
      "execution_count": 63,
      "outputs": []
    },
    {
      "cell_type": "code",
      "source": [
        "# 1 single image, 6 is the filters we asked for, 26x26\n",
        "x.shape"
      ],
      "metadata": {
        "colab": {
          "base_uri": "https://localhost:8080/"
        },
        "id": "grQgNkgtL4pS",
        "outputId": "61e2ebaf-1d68-4d5b-8675-b838b52465c7"
      },
      "execution_count": 65,
      "outputs": [
        {
          "output_type": "execute_result",
          "data": {
            "text/plain": [
              "torch.Size([1, 6, 26, 26])"
            ]
          },
          "metadata": {},
          "execution_count": 65
        }
      ]
    },
    {
      "cell_type": "code",
      "source": [
        "# pass thru pooling layer\n",
        "x = F.max_pool2d(x, 2, 2) #kernel of 2 and stride of 2"
      ],
      "metadata": {
        "id": "9tuYzb36MZuZ"
      },
      "execution_count": 66,
      "outputs": []
    },
    {
      "cell_type": "code",
      "source": [
        "x.shape # 26 / 2 = 13"
      ],
      "metadata": {
        "colab": {
          "base_uri": "https://localhost:8080/"
        },
        "id": "fsQDE63PNCE3",
        "outputId": "8203cc22-3864-4b02-f809-ab967c056be9"
      },
      "execution_count": 68,
      "outputs": [
        {
          "output_type": "execute_result",
          "data": {
            "text/plain": [
              "torch.Size([1, 6, 13, 13])"
            ]
          },
          "metadata": {},
          "execution_count": 68
        }
      ]
    },
    {
      "cell_type": "code",
      "source": [
        "# Do our second CNN layer\n",
        "x = F.relu(conv2(x))"
      ],
      "metadata": {
        "id": "nj3We9YONDN8"
      },
      "execution_count": 69,
      "outputs": []
    },
    {
      "cell_type": "code",
      "source": [
        "x.shape # Again, we didn't set padding so we lose 2 pixels around the outside of the image"
      ],
      "metadata": {
        "colab": {
          "base_uri": "https://localhost:8080/"
        },
        "id": "PZ0xBjwhOfgE",
        "outputId": "381d4e07-1a74-4beb-c85b-84eb40177dab"
      },
      "execution_count": 71,
      "outputs": [
        {
          "output_type": "execute_result",
          "data": {
            "text/plain": [
              "torch.Size([1, 16, 11, 11])"
            ]
          },
          "metadata": {},
          "execution_count": 71
        }
      ]
    },
    {
      "cell_type": "code",
      "source": [
        "# Pooling layer\n",
        "x = F.max_pool2d(x,2,2)"
      ],
      "metadata": {
        "id": "EuPL2rZxOf_I"
      },
      "execution_count": 72,
      "outputs": []
    },
    {
      "cell_type": "code",
      "source": [
        "x.shape # 11 / 2 = 5.5 but we have to round down, because you can't invent data to round up"
      ],
      "metadata": {
        "colab": {
          "base_uri": "https://localhost:8080/"
        },
        "id": "TrQttMtCOwsR",
        "outputId": "2005d09e-9f50-451e-ca16-a8c6de86e35a"
      },
      "execution_count": 74,
      "outputs": [
        {
          "output_type": "execute_result",
          "data": {
            "text/plain": [
              "torch.Size([1, 16, 5, 5])"
            ]
          },
          "metadata": {},
          "execution_count": 74
        }
      ]
    },
    {
      "cell_type": "code",
      "source": [],
      "metadata": {
        "id": "4UU4CHiSOxEo"
      },
      "execution_count": null,
      "outputs": []
    }
  ]
}