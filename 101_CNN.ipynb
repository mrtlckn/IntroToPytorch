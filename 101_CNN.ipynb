{
  "nbformat": 4,
  "nbformat_minor": 0,
  "metadata": {
    "colab": {
      "provenance": [],
      "gpuType": "T4",
      "authorship_tag": "ABX9TyPvVUcbZAjql+KHaW7oKr/T",
      "include_colab_link": true
    },
    "kernelspec": {
      "name": "python3",
      "display_name": "Python 3"
    },
    "language_info": {
      "name": "python"
    },
    "accelerator": "GPU"
  },
  "cells": [
    {
      "cell_type": "markdown",
      "metadata": {
        "id": "view-in-github",
        "colab_type": "text"
      },
      "source": [
        "<a href=\"https://colab.research.google.com/github/mrtlckn/IntroToPytorch/blob/main/101_CNN.ipynb\" target=\"_parent\"><img src=\"https://colab.research.google.com/assets/colab-badge.svg\" alt=\"Open In Colab\"/></a>"
      ]
    },
    {
      "cell_type": "code",
      "source": [
        "import torch\n",
        "\n",
        "import torch.nn as nn\n",
        "import torch.nn.functional as F\n",
        "from torch.utils.data import DataLoader\n",
        "from torchvision import datasets, transforms\n",
        "from torchvision.utils import make_grid\n",
        "\n",
        "import numpy as np\n",
        "import pandas as pd\n",
        "from sklearn.metrics import confusion_matrix\n",
        "import matplotlib.pyplot as plt\n",
        "%matplotlib inline"
      ],
      "metadata": {
        "id": "Xsf-19sGFX1L"
      },
      "execution_count": 1,
      "outputs": []
    },
    {
      "cell_type": "markdown",
      "source": [
        " # 1- Load MNIST dataset"
      ],
      "metadata": {
        "id": "zn5OmsbiIr_H"
      }
    },
    {
      "cell_type": "code",
      "source": [
        "# Convert MNIST Image Files into a Tensor of 4-Dimensios(# of images, Height, Widht, Color Channel)\n",
        "transform = transforms.ToTensor()"
      ],
      "metadata": {
        "id": "ThAVRgYnHJqA"
      },
      "execution_count": 2,
      "outputs": []
    },
    {
      "cell_type": "code",
      "source": [
        "# Train Data\n",
        "train_data = datasets.MNIST(root = '/cnn_data', train=True, download=True, transform=transform)\n",
        "# Test Data\n",
        "test_data = datasets.MNIST(root = '/cnn_data', train=False, download=True, transform=transform)\n",
        "\n"
      ],
      "metadata": {
        "id": "sxyznWXmHjmD"
      },
      "execution_count": 3,
      "outputs": []
    },
    {
      "cell_type": "code",
      "source": [
        "train_data"
      ],
      "metadata": {
        "colab": {
          "base_uri": "https://localhost:8080/"
        },
        "id": "dBe6f-BRHwp2",
        "outputId": "cba25e5d-193e-41b4-d693-989d9eef6d7b"
      },
      "execution_count": 4,
      "outputs": [
        {
          "output_type": "execute_result",
          "data": {
            "text/plain": [
              "Dataset MNIST\n",
              "    Number of datapoints: 60000\n",
              "    Root location: /cnn_data\n",
              "    Split: Train\n",
              "    StandardTransform\n",
              "Transform: ToTensor()"
            ]
          },
          "metadata": {},
          "execution_count": 4
        }
      ]
    },
    {
      "cell_type": "code",
      "source": [
        "test_data"
      ],
      "metadata": {
        "colab": {
          "base_uri": "https://localhost:8080/"
        },
        "id": "RyyQJWzyIDqb",
        "outputId": "97d069ab-48fa-48c6-9917-607a84b26fc4"
      },
      "execution_count": 5,
      "outputs": [
        {
          "output_type": "execute_result",
          "data": {
            "text/plain": [
              "Dataset MNIST\n",
              "    Number of datapoints: 10000\n",
              "    Root location: /cnn_data\n",
              "    Split: Test\n",
              "    StandardTransform\n",
              "Transform: ToTensor()"
            ]
          },
          "metadata": {},
          "execution_count": 5
        }
      ]
    },
    {
      "cell_type": "markdown",
      "source": [
        "# 2- Convolutional and Pooling Layers"
      ],
      "metadata": {
        "id": "LTPppcmUIwLi"
      }
    },
    {
      "cell_type": "code",
      "source": [
        "# Create a small batch size for images... let's say 10\n",
        "train_loader = DataLoader(train_data, batch_size = 10, shuffle= True)\n",
        "test_loader = DataLoader(test_data, batch_size = 10, shuffle= False)"
      ],
      "metadata": {
        "id": "3vIxljywIfR-"
      },
      "execution_count": 6,
      "outputs": []
    },
    {
      "cell_type": "code",
      "source": [
        "# Define Our CNN Model\n",
        "# Describe CNN layer and what it's doing\n",
        "# This is just an example in the next chapter we'll build out the actual model\n",
        "\n",
        "conv1 =  nn.Conv2d(1, 6, 3, 1)\n",
        "conv2 =  nn.Conv2d(6, 16, 3, 1)\n"
      ],
      "metadata": {
        "id": "NwYOZFpHKQPQ"
      },
      "execution_count": 33,
      "outputs": []
    },
    {
      "cell_type": "code",
      "source": [
        "# Grab 1 MNIST Record\n",
        "for i, (X_train, y_train) in enumerate (train_data):\n",
        "  break"
      ],
      "metadata": {
        "id": "BG5uxBx4K2Ta"
      },
      "execution_count": 34,
      "outputs": []
    },
    {
      "cell_type": "code",
      "source": [
        "X_train.shape"
      ],
      "metadata": {
        "colab": {
          "base_uri": "https://localhost:8080/"
        },
        "id": "McmK5Sm0LAcH",
        "outputId": "bde663ed-b517-4770-83fc-379e82a1c9aa"
      },
      "execution_count": 35,
      "outputs": [
        {
          "output_type": "execute_result",
          "data": {
            "text/plain": [
              "torch.Size([1, 28, 28])"
            ]
          },
          "metadata": {},
          "execution_count": 35
        }
      ]
    },
    {
      "cell_type": "code",
      "source": [
        "x = X_train.view(1,1,28,28) # four dimensions. (1 batch, 1 image and size)"
      ],
      "metadata": {
        "id": "9R0RVIX7LA_W"
      },
      "execution_count": 36,
      "outputs": []
    },
    {
      "cell_type": "code",
      "source": [
        "# Perform our first convolution\n",
        "x = F.relu(conv1(x)) # Rectified Linear Unit for out activation function"
      ],
      "metadata": {
        "id": "DfOWI8wbLa1i"
      },
      "execution_count": 37,
      "outputs": []
    },
    {
      "cell_type": "code",
      "source": [
        "# 1 single image, 6 is the filters we asked for, 26x26\n",
        "x.shape"
      ],
      "metadata": {
        "colab": {
          "base_uri": "https://localhost:8080/"
        },
        "id": "grQgNkgtL4pS",
        "outputId": "2cb6c350-c895-4b75-bf9f-c9abddc248fc"
      },
      "execution_count": 38,
      "outputs": [
        {
          "output_type": "execute_result",
          "data": {
            "text/plain": [
              "torch.Size([1, 6, 26, 26])"
            ]
          },
          "metadata": {},
          "execution_count": 38
        }
      ]
    },
    {
      "cell_type": "code",
      "source": [
        "# pass thru pooling layer\n",
        "x = F.max_pool2d(x, 2, 2) #kernel of 2 and stride of 2"
      ],
      "metadata": {
        "id": "9tuYzb36MZuZ"
      },
      "execution_count": 39,
      "outputs": []
    },
    {
      "cell_type": "code",
      "source": [
        "x.shape # 26 / 2 = 13"
      ],
      "metadata": {
        "colab": {
          "base_uri": "https://localhost:8080/"
        },
        "id": "fsQDE63PNCE3",
        "outputId": "fe3bd38b-b9b5-489d-bb21-827f4a547ab1"
      },
      "execution_count": 40,
      "outputs": [
        {
          "output_type": "execute_result",
          "data": {
            "text/plain": [
              "torch.Size([1, 6, 13, 13])"
            ]
          },
          "metadata": {},
          "execution_count": 40
        }
      ]
    },
    {
      "cell_type": "code",
      "source": [
        "# Do our second CNN layer\n",
        "x = F.relu(conv2(x))"
      ],
      "metadata": {
        "id": "nj3We9YONDN8"
      },
      "execution_count": 41,
      "outputs": []
    },
    {
      "cell_type": "code",
      "source": [
        "x.shape # Again, we didn't set padding so we lose 2 pixels around the outside of the image"
      ],
      "metadata": {
        "colab": {
          "base_uri": "https://localhost:8080/"
        },
        "id": "PZ0xBjwhOfgE",
        "outputId": "4dffa9b7-e5ca-4939-e3a4-5004207240aa"
      },
      "execution_count": 42,
      "outputs": [
        {
          "output_type": "execute_result",
          "data": {
            "text/plain": [
              "torch.Size([1, 16, 11, 11])"
            ]
          },
          "metadata": {},
          "execution_count": 42
        }
      ]
    },
    {
      "cell_type": "code",
      "source": [
        "# Pooling layer\n",
        "x = F.max_pool2d(x,2,2)"
      ],
      "metadata": {
        "id": "EuPL2rZxOf_I"
      },
      "execution_count": 43,
      "outputs": []
    },
    {
      "cell_type": "code",
      "source": [
        "x.shape # 11 / 2 = 5.5 but we have to round down, because you can't invent data to round up"
      ],
      "metadata": {
        "colab": {
          "base_uri": "https://localhost:8080/"
        },
        "id": "TrQttMtCOwsR",
        "outputId": "d059e58f-5abb-4756-a2d3-2def5ec857a6"
      },
      "execution_count": 44,
      "outputs": [
        {
          "output_type": "execute_result",
          "data": {
            "text/plain": [
              "torch.Size([1, 16, 5, 5])"
            ]
          },
          "metadata": {},
          "execution_count": 44
        }
      ]
    },
    {
      "cell_type": "markdown",
      "source": [
        "# 3- Actual Model"
      ],
      "metadata": {
        "id": "Iu538aFXY0cl"
      }
    },
    {
      "cell_type": "code",
      "source": [
        "# model Class\n",
        "\n",
        "class ConvolutionalNetwork(nn.Module):\n",
        "  def __init__(self):\n",
        "    super().__init__()\n",
        "    self.conv1 = nn.Conv2d(1,6,3,1)\n",
        "    self.conv2 = nn.Conv2d(6,16,3,1)\n",
        "\n",
        "    # Fully Connected Layer\n",
        "    self.fc1 = nn.Linear(5*5*16, 120)\n",
        "    self.fc2 = nn.Linear(120, 84)\n",
        "    self.fc3 = nn.Linear(84,10)\n",
        "\n",
        "  def forward(self,X):\n",
        "    X = F.relu(self.conv1(X))\n",
        "    X = F.max_pool2d(X,2,2) #2x2 kernel and stride 2\n",
        "\n",
        "    # Second Pass\n",
        "    X = F.relu(self.conv2(X))\n",
        "    X = F.max_pool2d(X,2,2) #2x2 kernel and stride 2\n",
        "\n",
        "    # Re-View to flatten it out\n",
        "    X = X.view(-1, 16*5*5) # Negative one so that we can vary the batch size\n",
        "\n",
        "\n",
        "    # Fully Connected Layers\n",
        "    X = F.relu(self.fc1(X))\n",
        "    X = F.relu(self.fc2(X))\n",
        "    X = self.fc3(X)\n",
        "\n",
        "    return F.log_softmax(X, dim=1)\n"
      ],
      "metadata": {
        "id": "4UU4CHiSOxEo"
      },
      "execution_count": 11,
      "outputs": []
    },
    {
      "cell_type": "code",
      "source": [
        "# Create an Instance of our Model\n",
        "\n",
        "torch.manual_seed(41)\n",
        "model = ConvolutionalNetwork()\n",
        "model"
      ],
      "metadata": {
        "colab": {
          "base_uri": "https://localhost:8080/"
        },
        "id": "oudSf7DXeJf9",
        "outputId": "a97b1fcf-969d-4a98-d7a0-6ff0395be15d"
      },
      "execution_count": 12,
      "outputs": [
        {
          "output_type": "execute_result",
          "data": {
            "text/plain": [
              "ConvolutionalNetwork(\n",
              "  (conv1): Conv2d(1, 6, kernel_size=(3, 3), stride=(1, 1))\n",
              "  (conv2): Conv2d(6, 16, kernel_size=(3, 3), stride=(1, 1))\n",
              "  (fc1): Linear(in_features=400, out_features=120, bias=True)\n",
              "  (fc2): Linear(in_features=120, out_features=84, bias=True)\n",
              "  (fc3): Linear(in_features=84, out_features=10, bias=True)\n",
              ")"
            ]
          },
          "metadata": {},
          "execution_count": 12
        }
      ]
    },
    {
      "cell_type": "code",
      "source": [
        "# Loss Function Optimizer\n",
        "criterion = nn.CrossEntropyLoss()\n",
        "optimizer = torch.optim.Adam(model.parameters(), lr = 0.001) # Smaller the Learning Rate, longer its gonna take to train."
      ],
      "metadata": {
        "id": "lZTi9FU3eTVl"
      },
      "execution_count": 13,
      "outputs": []
    },
    {
      "cell_type": "code",
      "source": [
        "import time\n",
        "start_time = time.time()\n",
        "\n",
        "# Create Variables To Tracks Things\n",
        "epochs = 5\n",
        "train_losses = []\n",
        "test_losses = []\n",
        "\n",
        "train_correct = []\n",
        "test_correct = []\n",
        "\n",
        "\n",
        "# For Loop of Epochs\n",
        "for i in range(epochs):\n",
        "  trn_corr = 0\n",
        "  tst_corr = 0\n",
        "\n",
        "\n",
        "  # Train\n",
        "  for b,(X_train, y_train) in enumerate(train_loader):\n",
        "    b+= 1  # start our batches at 1\n",
        "    y_pred = model(X_train) # get predicted values from the training set. Not flattened 2D\n",
        "    loss = criterion(y_pred, y_train) # how off are we? Compare the predictions to correct answers in Y_train\n",
        "\n",
        "    predicted = torch.max(y_pred.data, 1)[1] # add up the number of correct predictions. Indexed off the first point\n",
        "    batch_corr = (predicted == y_train).sum() # how many we got correct from this batch. True = 1, False = 0 sum those oup.\n",
        "    trn_corr += batch_corr # keep track as we go along in training.\n",
        "\n",
        "\n",
        "    # Update our parameters\n",
        "    optimizer.zero_grad()\n",
        "    loss.backward()\n",
        "    optimizer.step()\n",
        "\n",
        "    # Print out some results\n",
        "    if b%600 == 0: #batch\n",
        "      print(f'Epochs: {i}, Batch: {b}, Loss: {loss.item()}')\n",
        "\n",
        "  train_losses.append(loss)\n",
        "  train_correct.append(trn_corr)\n",
        "\n",
        "  # Test\n",
        "  with torch.no_grad(): # No gradient so we don't update our weights and biases with test\n",
        "    for b, (X_test, y_test) in enumerate(test_loader):\n",
        "      y_val = model(X_test)\n",
        "      predicted = torch.max(y_val.data, 1)[1] # Adding up correct predctions\n",
        "      tst_corr += (predicted == y_test).sum() # T = 1 F=0 and sum away\n",
        "\n",
        "\n",
        "  loss = criterion(y_val, y_test)\n",
        "  test_losses.append(loss)\n",
        "  test_correct.append(tst_corr)\n",
        "\n",
        "\n",
        "\n",
        "current_time = time.time()\n",
        "total = current_time- start_time\n",
        "print(f'Training Took : {total/60} minutes')"
      ],
      "metadata": {
        "id": "-PzIdYSrgQIo",
        "colab": {
          "base_uri": "https://localhost:8080/"
        },
        "outputId": "0b01064f-d81e-4d9f-a0a7-ed389ef50e9c"
      },
      "execution_count": 15,
      "outputs": [
        {
          "output_type": "stream",
          "name": "stdout",
          "text": [
            "Epochs: 0, Batch: 600, Loss: 0.0016589810838922858\n",
            "Epochs: 0, Batch: 1200, Loss: 0.022251037880778313\n",
            "Epochs: 0, Batch: 1800, Loss: 0.005315182264894247\n",
            "Epochs: 0, Batch: 2400, Loss: 0.10110694169998169\n",
            "Epochs: 0, Batch: 3000, Loss: 0.0011970759369432926\n",
            "Epochs: 0, Batch: 3600, Loss: 0.002842469373717904\n",
            "Epochs: 0, Batch: 4200, Loss: 0.3944374918937683\n",
            "Epochs: 0, Batch: 4800, Loss: 0.009817132726311684\n",
            "Epochs: 0, Batch: 5400, Loss: 0.0058995941653847694\n",
            "Epochs: 0, Batch: 6000, Loss: 0.0027530789375305176\n",
            "Epochs: 1, Batch: 600, Loss: 0.02853192389011383\n",
            "Epochs: 1, Batch: 1200, Loss: 0.006824986077845097\n",
            "Epochs: 1, Batch: 1800, Loss: 0.15946803987026215\n",
            "Epochs: 1, Batch: 2400, Loss: 0.0406726598739624\n",
            "Epochs: 1, Batch: 3000, Loss: 0.1079246774315834\n",
            "Epochs: 1, Batch: 3600, Loss: 8.946052548708394e-05\n",
            "Epochs: 1, Batch: 4200, Loss: 7.343777542700991e-05\n",
            "Epochs: 1, Batch: 4800, Loss: 0.0003252385649830103\n",
            "Epochs: 1, Batch: 5400, Loss: 0.01410678494721651\n",
            "Epochs: 1, Batch: 6000, Loss: 0.00047000046470202506\n",
            "Epochs: 2, Batch: 600, Loss: 0.02180648222565651\n",
            "Epochs: 2, Batch: 1200, Loss: 0.0034294291399419308\n",
            "Epochs: 2, Batch: 1800, Loss: 0.0002817573840729892\n",
            "Epochs: 2, Batch: 2400, Loss: 0.002837002743035555\n",
            "Epochs: 2, Batch: 3000, Loss: 0.1545095443725586\n",
            "Epochs: 2, Batch: 3600, Loss: 0.0005533359362743795\n",
            "Epochs: 2, Batch: 4200, Loss: 0.005142829846590757\n",
            "Epochs: 2, Batch: 4800, Loss: 0.007289492525160313\n",
            "Epochs: 2, Batch: 5400, Loss: 0.0053220028057694435\n",
            "Epochs: 2, Batch: 6000, Loss: 0.0007759262807667255\n",
            "Epochs: 3, Batch: 600, Loss: 0.01185503788292408\n",
            "Epochs: 3, Batch: 1200, Loss: 0.06242988631129265\n",
            "Epochs: 3, Batch: 1800, Loss: 0.011130161583423615\n",
            "Epochs: 3, Batch: 2400, Loss: 0.006095781456679106\n",
            "Epochs: 3, Batch: 3000, Loss: 0.00038798441528342664\n",
            "Epochs: 3, Batch: 3600, Loss: 0.002246277406811714\n",
            "Epochs: 3, Batch: 4200, Loss: 0.000560272135771811\n",
            "Epochs: 3, Batch: 4800, Loss: 0.3477528691291809\n",
            "Epochs: 3, Batch: 5400, Loss: 0.0002969832275994122\n",
            "Epochs: 3, Batch: 6000, Loss: 0.009594135917723179\n",
            "Epochs: 4, Batch: 600, Loss: 4.8103436711244285e-05\n",
            "Epochs: 4, Batch: 1200, Loss: 0.0007279576966539025\n",
            "Epochs: 4, Batch: 1800, Loss: 0.0018756663193926215\n",
            "Epochs: 4, Batch: 2400, Loss: 0.0008774024317972362\n",
            "Epochs: 4, Batch: 3000, Loss: 7.321132579818368e-05\n",
            "Epochs: 4, Batch: 3600, Loss: 0.14678145945072174\n",
            "Epochs: 4, Batch: 4200, Loss: 0.016286160796880722\n",
            "Epochs: 4, Batch: 4800, Loss: 0.000195714455912821\n",
            "Epochs: 4, Batch: 5400, Loss: 0.0001176797813968733\n",
            "Epochs: 4, Batch: 6000, Loss: 0.01020240131765604\n",
            "Training Took : 3.1816523949305218 minutes\n"
          ]
        }
      ]
    },
    {
      "cell_type": "markdown",
      "source": [
        "# 4- Graph CNN Results"
      ],
      "metadata": {
        "id": "yc9_VXi4yslI"
      }
    },
    {
      "cell_type": "code",
      "source": [
        "# Graph the loss at epoch\n",
        "#train_losses = [tl.item() for tl in train_losses]\n",
        "plt.plot(train_losses, label = \"Training Loss\")\n",
        "plt.plot(test_losses, label = \"Validation Loss\")\n",
        "plt.title(\"Loss at Epoch\")\n",
        "plt.legend()"
      ],
      "metadata": {
        "colab": {
          "base_uri": "https://localhost:8080/",
          "height": 469
        },
        "id": "5yEmIWWxnBu0",
        "outputId": "a2d3278c-9133-44eb-f72a-81f8c251d6cf"
      },
      "execution_count": 18,
      "outputs": [
        {
          "output_type": "execute_result",
          "data": {
            "text/plain": [
              "<matplotlib.legend.Legend at 0x784df3b85210>"
            ]
          },
          "metadata": {},
          "execution_count": 18
        },
        {
          "output_type": "display_data",
          "data": {
            "text/plain": [
              "<Figure size 640x480 with 1 Axes>"
            ],
            "image/png": "[encoded data removed]"
          },
          "metadata": {}
        }
      ]
    },
    {
      "cell_type": "code",
      "source": [
        "# graph the accuracy at the end of each epoch\n",
        "plt.plot([t/600 for t in train_correct], label = \"Training Accuracy\")\n",
        "plt.plot([t/100 for t in test_correct], label= \"Validation Accuracy\")\n",
        "plt.title(\"Accuracy at the end of each Epoch\")\n",
        "plt.legend()"
      ],
      "metadata": {
        "colab": {
          "base_uri": "https://localhost:8080/",
          "height": 469
        },
        "id": "N7BcON4PzFnQ",
        "outputId": "aa389d37-5670-495c-d497-a7d60c734a7f"
      },
      "execution_count": 19,
      "outputs": [
        {
          "output_type": "execute_result",
          "data": {
            "text/plain": [
              "<matplotlib.legend.Legend at 0x784df18b6950>"
            ]
          },
          "metadata": {},
          "execution_count": 19
        },
        {
          "output_type": "display_data",
          "data": {
            "text/plain": [
              "<Figure size 640x480 with 1 Axes>"
            ],
            "image/png": "[encoded data removed]"
          },
          "metadata": {}
        }
      ]
    },
    {
      "cell_type": "code",
      "source": [
        "test_load_everything = DataLoader(test_data, batch_size = 10000, shuffle = False)\n"
      ],
      "metadata": {
        "id": "GaO6FJO4zy-8"
      },
      "execution_count": 20,
      "outputs": []
    },
    {
      "cell_type": "code",
      "source": [
        "with torch.no_grad():\n",
        "  correct = 0\n",
        "  for X_test, y_test in test_load_everything:\n",
        "    y_val = model(X_test)\n",
        "    predicted = torch.max(y_val, 1)[1]\n",
        "    correct += (predicted == y_test).sum()"
      ],
      "metadata": {
        "id": "waTltCkW0GXT"
      },
      "execution_count": 26,
      "outputs": []
    },
    {
      "cell_type": "code",
      "source": [
        "# Did for correct\n",
        "correct.item() / len(test_data) * 100"
      ],
      "metadata": {
        "colab": {
          "base_uri": "https://localhost:8080/"
        },
        "id": "g6vreQMf0YB0",
        "outputId": "860a2fa7-a4bc-47d5-ebbf-27e1980a2401"
      },
      "execution_count": 28,
      "outputs": [
        {
          "output_type": "execute_result",
          "data": {
            "text/plain": [
              "98.89"
            ]
          },
          "metadata": {},
          "execution_count": 28
        }
      ]
    },
    {
      "cell_type": "code",
      "source": [],
      "metadata": {
        "id": "n-cba3Dg0gXG"
      },
      "execution_count": null,
      "outputs": []
    }
  ]
}